{
 "cells": [
  {
   "cell_type": "markdown",
   "metadata": {},
   "source": [
    "## ConnectWise Data Science Interview Project - Pankaj Patel"
   ]
  },
  {
   "cell_type": "code",
   "execution_count": 306,
   "metadata": {},
   "outputs": [],
   "source": [
    "import pandas as pd\n",
    "import numpy as np\n",
    "import warnings\n",
    "warnings.simplefilter(\"ignore\")\n",
    "from IPython.display import display\n",
    "import json\n",
    "import requests"
   ]
  },
  {
   "cell_type": "code",
   "execution_count": 308,
   "metadata": {},
   "outputs": [],
   "source": [
    "#Load the data from the provided source via a web request\n",
    "mv_data_json = requests.get('https://opendata.arcgis.com/datasets/bdfad82b15344d37beb28d7f90b6c4be_0.geojson')\n",
    "\n",
    "mv_list_recs = json.loads(mv_data_json.text)\n",
    "#print(type(mv_list_recs))"
   ]
  },
  {
   "cell_type": "code",
   "execution_count": 309,
   "metadata": {},
   "outputs": [],
   "source": [
    "#create dataframe\n",
    "mv_df = pd.DataFrame(mv_list_recs)"
   ]
  },
  {
   "cell_type": "code",
   "execution_count": 310,
   "metadata": {},
   "outputs": [],
   "source": [
    "mv_df=mv_df.drop(columns='type')"
   ]
  },
  {
   "cell_type": "code",
   "execution_count": 311,
   "metadata": {},
   "outputs": [
    {
     "data": {
      "text/html": [
       "<div>\n",
       "<style scoped>\n",
       "    .dataframe tbody tr th:only-of-type {\n",
       "        vertical-align: middle;\n",
       "    }\n",
       "\n",
       "    .dataframe tbody tr th {\n",
       "        vertical-align: top;\n",
       "    }\n",
       "\n",
       "    .dataframe thead th {\n",
       "        text-align: right;\n",
       "    }\n",
       "</style>\n",
       "<table border=\"1\" class=\"dataframe\">\n",
       "  <thead>\n",
       "    <tr style=\"text-align: right;\">\n",
       "      <th></th>\n",
       "      <th>features</th>\n",
       "    </tr>\n",
       "  </thead>\n",
       "  <tbody>\n",
       "    <tr>\n",
       "      <th>0</th>\n",
       "      <td>{'type': 'Feature', 'properties': {'OBJECTID':...</td>\n",
       "    </tr>\n",
       "    <tr>\n",
       "      <th>1</th>\n",
       "      <td>{'type': 'Feature', 'properties': {'OBJECTID':...</td>\n",
       "    </tr>\n",
       "    <tr>\n",
       "      <th>2</th>\n",
       "      <td>{'type': 'Feature', 'properties': {'OBJECTID':...</td>\n",
       "    </tr>\n",
       "    <tr>\n",
       "      <th>3</th>\n",
       "      <td>{'type': 'Feature', 'properties': {'OBJECTID':...</td>\n",
       "    </tr>\n",
       "    <tr>\n",
       "      <th>4</th>\n",
       "      <td>{'type': 'Feature', 'properties': {'OBJECTID':...</td>\n",
       "    </tr>\n",
       "  </tbody>\n",
       "</table>\n",
       "</div>"
      ],
      "text/plain": [
       "                                            features\n",
       "0  {'type': 'Feature', 'properties': {'OBJECTID':...\n",
       "1  {'type': 'Feature', 'properties': {'OBJECTID':...\n",
       "2  {'type': 'Feature', 'properties': {'OBJECTID':...\n",
       "3  {'type': 'Feature', 'properties': {'OBJECTID':...\n",
       "4  {'type': 'Feature', 'properties': {'OBJECTID':..."
      ]
     },
     "execution_count": 311,
     "metadata": {},
     "output_type": "execute_result"
    }
   ],
   "source": [
    "mv_df.head()"
   ]
  },
  {
   "cell_type": "code",
   "execution_count": 312,
   "metadata": {},
   "outputs": [
    {
     "name": "stdout",
     "output_type": "stream",
     "text": [
      "dict_keys(['type', 'properties', 'geometry'])\n"
     ]
    }
   ],
   "source": [
    "print(mv_df['features'][0].keys())"
   ]
  },
  {
   "cell_type": "code",
   "execution_count": 313,
   "metadata": {},
   "outputs": [
    {
     "data": {
      "text/plain": [
       "{'type': 'Point', 'coordinates': [-78.64833592360367, 35.85409038930386]}"
      ]
     },
     "execution_count": 313,
     "metadata": {},
     "output_type": "execute_result"
    }
   ],
   "source": [
    "mv_df['features'][0]['geometry']"
   ]
  },
  {
   "cell_type": "code",
   "execution_count": 314,
   "metadata": {},
   "outputs": [
    {
     "data": {
      "text/plain": [
       "{'OBJECTID': 51520,\n",
       " 'permittypemapped': 'Building',\n",
       " 'workclass': 'Addition',\n",
       " 'permitclass': '434',\n",
       " 'proposedworkdescription': 'ADDITION',\n",
       " 'permitclassmapped': 'Residential',\n",
       " 'applieddate': '2017-10-31T16:57:18.000Z',\n",
       " 'issueddate': '2017-11-17T20:16:57.000Z',\n",
       " 'estprojectcost': 33873,\n",
       " 'constcompletedofficial': 'Yes',\n",
       " 'censuslanduse': 'ADDITION/ALTERATION RESIDENTIAL BLDG',\n",
       " 'censuslandusecode': 434,\n",
       " 'devplanid': 0,\n",
       " 'corlotid': '0029',\n",
       " 'cntyacctnum': '0070596',\n",
       " 'coissueddate': None,\n",
       " 'cocissueddate': None,\n",
       " 'cocnbr': None,\n",
       " 'contractorcompanyname': 'BK. BUILDER',\n",
       " 'contractordba': None,\n",
       " 'contractoraddress1': '303 LYNDENBURY',\n",
       " 'contractoraddress2': None,\n",
       " 'contractorcity': 'APEX',\n",
       " 'contractorstate': 'NC',\n",
       " 'contractoremail': 'bkbuilers98@yahoo.com',\n",
       " 'contractorlicnum': '4600',\n",
       " 'contractorphone': '9196693096',\n",
       " 'contractorzip': '27502',\n",
       " 'countylocation': 'WAKE',\n",
       " 'description': 'ADDITION',\n",
       " 'expirednewpermnum': None,\n",
       " 'expiresdate': '2019-03-02T05:00:00.000Z',\n",
       " 'fee': 120,\n",
       " 'fiscalyear': 'FY 17/18',\n",
       " 'govtownedprop': 0,\n",
       " 'grouptenantname': None,\n",
       " 'housingunitstotal': 1,\n",
       " 'housingunitsexist': 1,\n",
       " 'issueddate_mth': 11,\n",
       " 'issueddate_yr': 2017,\n",
       " 'jurisdiction': '16000US3755000',\n",
       " 'jurisdiction_atissue': None,\n",
       " 'jurisdiction_inout_ral': 'Inside City Limits',\n",
       " 'landusedescription': 'SINGLE FAMILY',\n",
       " 'landusenewuse': '110',\n",
       " 'latitude_perm': 35.8540903893039,\n",
       " 'longitude_perm': -78.6483359236037,\n",
       " 'mapsheet': '170610',\n",
       " 'numberstories': 1,\n",
       " 'originaladdress1': '5305 COLLINGSWOOD DR',\n",
       " 'originaladdress2': None,\n",
       " 'originalcity': 'RALEIGH',\n",
       " 'originalstate': None,\n",
       " 'originalzip': '27609',\n",
       " 'parc_open_space_zone_fee': 1,\n",
       " 'parcelownername': 'ORR, ANDERSON D & MIRIAM E',\n",
       " 'parcelowneraddress1': '5305 COLLINGSWOOD DR',\n",
       " 'parcelowneraddress2': 'RALEIGH NC 27609-4319',\n",
       " 'perm_comments': '1 STORY ADDITION WITH STUDY AND BATHROOM',\n",
       " 'permittype': 'BUILDING',\n",
       " 'pin': '1706452917',\n",
       " 'projectname': 'CONVERSION DEVELOPMENT PLAN',\n",
       " 'proposeduse': 'ADDITION/ALTERATION RESIDENTIAL BLDG',\n",
       " 'publisher': 'City of Raleigh',\n",
       " 'recordupdatedate': '2018-05-30T17:15:58.000Z',\n",
       " 'reviewercomments': None,\n",
       " 'statelicnum': '44920',\n",
       " 'statuscurrent': 'ACTIVE  (ISSUED)',\n",
       " 'statuscurrentmapped': 'Permit Issued',\n",
       " 'streetnum': '5305',\n",
       " 'streetdirectionprefix': '  ',\n",
       " 'streetname': 'COLLINGSWOOD',\n",
       " 'streetdirectionsuffix': '  ',\n",
       " 'streettype': 'DR',\n",
       " 'totalsqft': 0,\n",
       " 'voiddate': None,\n",
       " 'workclassmapped': 'Existing',\n",
       " 'GlobalID': 'a43650a9-dcc5-4372-8261-ca43fc559fd6',\n",
       " 'CreationDate': '2018-03-16T01:55:55.663Z',\n",
       " 'Creator': 'justin.greco@raleighnc.gov_ral',\n",
       " 'EditDate': '2019-07-19T12:56:25.206Z',\n",
       " 'Editor': '',\n",
       " 'const_type': 'V  B',\n",
       " 'occupancyclass': 'RESIDENT 3  SFD/DUP',\n",
       " 'permitnum': '144324'}"
      ]
     },
     "execution_count": 314,
     "metadata": {},
     "output_type": "execute_result"
    }
   ],
   "source": [
    "mv_df['features'][0]['properties']"
   ]
  },
  {
   "cell_type": "code",
   "execution_count": 315,
   "metadata": {},
   "outputs": [],
   "source": [
    "#filtering \"properties\" dictionary to read data\n",
    "l1=[]\n",
    "for i in range(0,len(mv_df)):\n",
    "            l1.append(mv_df['features'][i]['properties'])\n",
    "df_l1=pd.DataFrame(l1)"
   ]
  },
  {
   "cell_type": "code",
   "execution_count": 316,
   "metadata": {},
   "outputs": [],
   "source": [
    "#filtering geometry dictionary to read geographical data (X,Y)\n",
    "l2=[]\n",
    "for i in range(0,len(mv_df)):\n",
    "    try:\n",
    "        if(mv_df['features'][i]['geometry']['coordinates']!=np.nan):\n",
    "             l2.append(mv_df['features'][i]['geometry']['coordinates'])\n",
    "    except TypeError:\n",
    "        l2.append([0])\n",
    "df_l2=pd.DataFrame(l2,columns=['X','Y'])"
   ]
  },
  {
   "cell_type": "code",
   "execution_count": 317,
   "metadata": {},
   "outputs": [],
   "source": [
    "#concatenating to get final dataframe (actual+geographical)\n",
    "import pandas as pd\n",
    "df=pd.concat([df_l2,df_l1],axis=1)"
   ]
  },
  {
   "cell_type": "code",
   "execution_count": 318,
   "metadata": {},
   "outputs": [
    {
     "data": {
      "text/plain": [
       "87"
      ]
     },
     "execution_count": 318,
     "metadata": {},
     "output_type": "execute_result"
    }
   ],
   "source": [
    "len(df.columns)"
   ]
  },
  {
   "cell_type": "markdown",
   "metadata": {},
   "source": [
    "## Exploratory Data Analysis:"
   ]
  },
  {
   "cell_type": "markdown",
   "metadata": {},
   "source": [
    "1.1 Number of rows and columns in the dataset"
   ]
  },
  {
   "cell_type": "code",
   "execution_count": 319,
   "metadata": {},
   "outputs": [
    {
     "data": {
      "text/plain": [
       "(149588, 87)"
      ]
     },
     "execution_count": 319,
     "metadata": {},
     "output_type": "execute_result"
    }
   ],
   "source": [
    "#Number of rows and columns in the dataset\n",
    "df.shape"
   ]
  },
  {
   "cell_type": "markdown",
   "metadata": {},
   "source": [
    "Format is (# rows, # cols), so there are 149588 rows and 87 columns in our dataset"
   ]
  },
  {
   "cell_type": "code",
   "execution_count": 320,
   "metadata": {},
   "outputs": [
    {
     "data": {
      "text/html": [
       "<div>\n",
       "<style scoped>\n",
       "    .dataframe tbody tr th:only-of-type {\n",
       "        vertical-align: middle;\n",
       "    }\n",
       "\n",
       "    .dataframe tbody tr th {\n",
       "        vertical-align: top;\n",
       "    }\n",
       "\n",
       "    .dataframe thead th {\n",
       "        text-align: right;\n",
       "    }\n",
       "</style>\n",
       "<table border=\"1\" class=\"dataframe\">\n",
       "  <thead>\n",
       "    <tr style=\"text-align: right;\">\n",
       "      <th></th>\n",
       "      <th>X</th>\n",
       "      <th>Y</th>\n",
       "      <th>CreationDate</th>\n",
       "      <th>Creator</th>\n",
       "      <th>EditDate</th>\n",
       "      <th>Editor</th>\n",
       "      <th>GlobalID</th>\n",
       "      <th>OBJECTID</th>\n",
       "      <th>applieddate</th>\n",
       "      <th>censuslanduse</th>\n",
       "      <th>...</th>\n",
       "      <th>statuscurrentmapped</th>\n",
       "      <th>streetdirectionprefix</th>\n",
       "      <th>streetdirectionsuffix</th>\n",
       "      <th>streetname</th>\n",
       "      <th>streetnum</th>\n",
       "      <th>streettype</th>\n",
       "      <th>totalsqft</th>\n",
       "      <th>voiddate</th>\n",
       "      <th>workclass</th>\n",
       "      <th>workclassmapped</th>\n",
       "    </tr>\n",
       "  </thead>\n",
       "  <tbody>\n",
       "    <tr>\n",
       "      <th>0</th>\n",
       "      <td>-78.648336</td>\n",
       "      <td>35.854090</td>\n",
       "      <td>2018-03-16T01:55:55.663Z</td>\n",
       "      <td>justin.greco@raleighnc.gov_ral</td>\n",
       "      <td>2019-07-19T12:56:25.206Z</td>\n",
       "      <td></td>\n",
       "      <td>a43650a9-dcc5-4372-8261-ca43fc559fd6</td>\n",
       "      <td>51520</td>\n",
       "      <td>2017-10-31T16:57:18.000Z</td>\n",
       "      <td>ADDITION/ALTERATION RESIDENTIAL BLDG</td>\n",
       "      <td>...</td>\n",
       "      <td>Permit Issued</td>\n",
       "      <td></td>\n",
       "      <td></td>\n",
       "      <td>COLLINGSWOOD</td>\n",
       "      <td>5305</td>\n",
       "      <td>DR</td>\n",
       "      <td>0.0</td>\n",
       "      <td>None</td>\n",
       "      <td>Addition</td>\n",
       "      <td>Existing</td>\n",
       "    </tr>\n",
       "    <tr>\n",
       "      <th>1</th>\n",
       "      <td>-78.676433</td>\n",
       "      <td>35.880532</td>\n",
       "      <td>2018-03-16T01:55:55.663Z</td>\n",
       "      <td>justin.greco@raleighnc.gov_ral</td>\n",
       "      <td>2019-07-19T12:56:25.206Z</td>\n",
       "      <td></td>\n",
       "      <td>23682697-2ec5-473b-947d-e22dfc33851b</td>\n",
       "      <td>51521</td>\n",
       "      <td>2017-10-09T16:31:30.000Z</td>\n",
       "      <td>ADDITION/ALTERATION RESIDENTIAL BLDG</td>\n",
       "      <td>...</td>\n",
       "      <td>Permit Issued</td>\n",
       "      <td></td>\n",
       "      <td></td>\n",
       "      <td>BOLINGBROOK</td>\n",
       "      <td>2316</td>\n",
       "      <td>LN</td>\n",
       "      <td>0.0</td>\n",
       "      <td>None</td>\n",
       "      <td>Alterations/repairs</td>\n",
       "      <td>Existing</td>\n",
       "    </tr>\n",
       "    <tr>\n",
       "      <th>2</th>\n",
       "      <td>-78.715334</td>\n",
       "      <td>35.821738</td>\n",
       "      <td>2018-03-16T01:55:55.663Z</td>\n",
       "      <td>justin.greco@raleighnc.gov_ral</td>\n",
       "      <td>2019-07-19T12:56:25.206Z</td>\n",
       "      <td></td>\n",
       "      <td>8258a457-b74c-431e-ad01-b711deab9589</td>\n",
       "      <td>51522</td>\n",
       "      <td>2017-10-09T15:28:26.000Z</td>\n",
       "      <td>ADDITION/ALTERATION RESIDENTIAL BLDG</td>\n",
       "      <td>...</td>\n",
       "      <td>Occupancy</td>\n",
       "      <td></td>\n",
       "      <td></td>\n",
       "      <td>BELSPRING</td>\n",
       "      <td>3008</td>\n",
       "      <td>LN</td>\n",
       "      <td>0.0</td>\n",
       "      <td>None</td>\n",
       "      <td>Alterations/repairs</td>\n",
       "      <td>Existing</td>\n",
       "    </tr>\n",
       "    <tr>\n",
       "      <th>3</th>\n",
       "      <td>-78.661374</td>\n",
       "      <td>35.746488</td>\n",
       "      <td>2018-03-16T01:55:55.663Z</td>\n",
       "      <td>justin.greco@raleighnc.gov_ral</td>\n",
       "      <td>2019-07-19T12:56:25.206Z</td>\n",
       "      <td></td>\n",
       "      <td>e394e112-183b-416e-bde3-7a7b96dd6d96</td>\n",
       "      <td>51523</td>\n",
       "      <td>2017-06-27T19:30:53.000Z</td>\n",
       "      <td>ADDITION/ALTERATION RESIDENTIAL BLDG</td>\n",
       "      <td>...</td>\n",
       "      <td>Occupancy</td>\n",
       "      <td>None</td>\n",
       "      <td>None</td>\n",
       "      <td>SUFFOLK</td>\n",
       "      <td>1037</td>\n",
       "      <td>BLVD</td>\n",
       "      <td>0.0</td>\n",
       "      <td>None</td>\n",
       "      <td>Alterations/repairs</td>\n",
       "      <td>Existing</td>\n",
       "    </tr>\n",
       "    <tr>\n",
       "      <th>4</th>\n",
       "      <td>-78.734347</td>\n",
       "      <td>35.825380</td>\n",
       "      <td>2018-03-16T01:55:55.663Z</td>\n",
       "      <td>justin.greco@raleighnc.gov_ral</td>\n",
       "      <td>2019-07-19T12:56:25.206Z</td>\n",
       "      <td></td>\n",
       "      <td>90c7bb9d-9800-401b-a68e-beddc47de4e2</td>\n",
       "      <td>51524</td>\n",
       "      <td>2017-06-21T14:43:20.000Z</td>\n",
       "      <td>ADDITION/ALTERATION RESIDENTIAL BLDG</td>\n",
       "      <td>...</td>\n",
       "      <td>Occupancy</td>\n",
       "      <td></td>\n",
       "      <td></td>\n",
       "      <td>SARAHCREEK</td>\n",
       "      <td>6004</td>\n",
       "      <td>CT</td>\n",
       "      <td>876.0</td>\n",
       "      <td>None</td>\n",
       "      <td>Other</td>\n",
       "      <td>Existing</td>\n",
       "    </tr>\n",
       "  </tbody>\n",
       "</table>\n",
       "<p>5 rows × 87 columns</p>\n",
       "</div>"
      ],
      "text/plain": [
       "           X          Y              CreationDate  \\\n",
       "0 -78.648336  35.854090  2018-03-16T01:55:55.663Z   \n",
       "1 -78.676433  35.880532  2018-03-16T01:55:55.663Z   \n",
       "2 -78.715334  35.821738  2018-03-16T01:55:55.663Z   \n",
       "3 -78.661374  35.746488  2018-03-16T01:55:55.663Z   \n",
       "4 -78.734347  35.825380  2018-03-16T01:55:55.663Z   \n",
       "\n",
       "                          Creator                  EditDate Editor  \\\n",
       "0  justin.greco@raleighnc.gov_ral  2019-07-19T12:56:25.206Z          \n",
       "1  justin.greco@raleighnc.gov_ral  2019-07-19T12:56:25.206Z          \n",
       "2  justin.greco@raleighnc.gov_ral  2019-07-19T12:56:25.206Z          \n",
       "3  justin.greco@raleighnc.gov_ral  2019-07-19T12:56:25.206Z          \n",
       "4  justin.greco@raleighnc.gov_ral  2019-07-19T12:56:25.206Z          \n",
       "\n",
       "                               GlobalID  OBJECTID               applieddate  \\\n",
       "0  a43650a9-dcc5-4372-8261-ca43fc559fd6     51520  2017-10-31T16:57:18.000Z   \n",
       "1  23682697-2ec5-473b-947d-e22dfc33851b     51521  2017-10-09T16:31:30.000Z   \n",
       "2  8258a457-b74c-431e-ad01-b711deab9589     51522  2017-10-09T15:28:26.000Z   \n",
       "3  e394e112-183b-416e-bde3-7a7b96dd6d96     51523  2017-06-27T19:30:53.000Z   \n",
       "4  90c7bb9d-9800-401b-a68e-beddc47de4e2     51524  2017-06-21T14:43:20.000Z   \n",
       "\n",
       "                          censuslanduse  ...  statuscurrentmapped  \\\n",
       "0  ADDITION/ALTERATION RESIDENTIAL BLDG  ...        Permit Issued   \n",
       "1  ADDITION/ALTERATION RESIDENTIAL BLDG  ...        Permit Issued   \n",
       "2  ADDITION/ALTERATION RESIDENTIAL BLDG  ...            Occupancy   \n",
       "3  ADDITION/ALTERATION RESIDENTIAL BLDG  ...            Occupancy   \n",
       "4  ADDITION/ALTERATION RESIDENTIAL BLDG  ...            Occupancy   \n",
       "\n",
       "  streetdirectionprefix streetdirectionsuffix    streetname streetnum  \\\n",
       "0                                              COLLINGSWOOD      5305   \n",
       "1                                               BOLINGBROOK      2316   \n",
       "2                                                 BELSPRING      3008   \n",
       "3                  None                  None       SUFFOLK      1037   \n",
       "4                                                SARAHCREEK      6004   \n",
       "\n",
       "  streettype totalsqft voiddate            workclass workclassmapped  \n",
       "0         DR       0.0     None             Addition        Existing  \n",
       "1         LN       0.0     None  Alterations/repairs        Existing  \n",
       "2         LN       0.0     None  Alterations/repairs        Existing  \n",
       "3       BLVD       0.0     None  Alterations/repairs        Existing  \n",
       "4         CT     876.0     None                Other        Existing  \n",
       "\n",
       "[5 rows x 87 columns]"
      ]
     },
     "execution_count": 320,
     "metadata": {},
     "output_type": "execute_result"
    }
   ],
   "source": [
    "df.head()"
   ]
  },
  {
   "cell_type": "code",
   "execution_count": 321,
   "metadata": {},
   "outputs": [
    {
     "data": {
      "text/html": [
       "<div>\n",
       "<style scoped>\n",
       "    .dataframe tbody tr th:only-of-type {\n",
       "        vertical-align: middle;\n",
       "    }\n",
       "\n",
       "    .dataframe tbody tr th {\n",
       "        vertical-align: top;\n",
       "    }\n",
       "\n",
       "    .dataframe thead th {\n",
       "        text-align: right;\n",
       "    }\n",
       "</style>\n",
       "<table border=\"1\" class=\"dataframe\">\n",
       "  <thead>\n",
       "    <tr style=\"text-align: right;\">\n",
       "      <th></th>\n",
       "      <th>X</th>\n",
       "      <th>Y</th>\n",
       "      <th>OBJECTID</th>\n",
       "      <th>censuslandusecode</th>\n",
       "      <th>cocnbr</th>\n",
       "      <th>devplanid</th>\n",
       "      <th>estprojectcost</th>\n",
       "      <th>fee</th>\n",
       "      <th>govtownedprop</th>\n",
       "      <th>housingunitsexist</th>\n",
       "      <th>housingunitstotal</th>\n",
       "      <th>issueddate_mth</th>\n",
       "      <th>issueddate_yr</th>\n",
       "      <th>latitude_perm</th>\n",
       "      <th>longitude_perm</th>\n",
       "      <th>numberstories</th>\n",
       "      <th>parc_open_space_zone_fee</th>\n",
       "      <th>totalsqft</th>\n",
       "    </tr>\n",
       "  </thead>\n",
       "  <tbody>\n",
       "    <tr>\n",
       "      <th>count</th>\n",
       "      <td>149588.000000</td>\n",
       "      <td>149255.000000</td>\n",
       "      <td>149588.000000</td>\n",
       "      <td>142254.000000</td>\n",
       "      <td>2668.000000</td>\n",
       "      <td>129461.000000</td>\n",
       "      <td>1.495880e+05</td>\n",
       "      <td>146371.000000</td>\n",
       "      <td>147868.000000</td>\n",
       "      <td>79187.000000</td>\n",
       "      <td>123880.000000</td>\n",
       "      <td>144814.000000</td>\n",
       "      <td>144814.000000</td>\n",
       "      <td>149255.000000</td>\n",
       "      <td>149255.000000</td>\n",
       "      <td>128541.000000</td>\n",
       "      <td>147869.000000</td>\n",
       "      <td>1.440800e+05</td>\n",
       "    </tr>\n",
       "    <tr>\n",
       "      <th>mean</th>\n",
       "      <td>-78.460858</td>\n",
       "      <td>35.835088</td>\n",
       "      <td>122380.575969</td>\n",
       "      <td>325.068047</td>\n",
       "      <td>4614.751874</td>\n",
       "      <td>4712.214381</td>\n",
       "      <td>1.886388e+05</td>\n",
       "      <td>308.594585</td>\n",
       "      <td>0.089857</td>\n",
       "      <td>10.179284</td>\n",
       "      <td>2.716548</td>\n",
       "      <td>6.398221</td>\n",
       "      <td>2009.227948</td>\n",
       "      <td>35.835088</td>\n",
       "      <td>-78.635911</td>\n",
       "      <td>9.575217</td>\n",
       "      <td>2.459643</td>\n",
       "      <td>2.706109e+03</td>\n",
       "    </tr>\n",
       "    <tr>\n",
       "      <th>std</th>\n",
       "      <td>3.706689</td>\n",
       "      <td>0.058048</td>\n",
       "      <td>43289.418553</td>\n",
       "      <td>170.523606</td>\n",
       "      <td>3971.971744</td>\n",
       "      <td>4528.609002</td>\n",
       "      <td>1.460298e+06</td>\n",
       "      <td>4327.140889</td>\n",
       "      <td>0.562494</td>\n",
       "      <td>46.478067</td>\n",
       "      <td>200.972725</td>\n",
       "      <td>3.259937</td>\n",
       "      <td>5.738230</td>\n",
       "      <td>0.058048</td>\n",
       "      <td>0.068494</td>\n",
       "      <td>1090.441290</td>\n",
       "      <td>1.183191</td>\n",
       "      <td>2.127835e+04</td>\n",
       "    </tr>\n",
       "    <tr>\n",
       "      <th>min</th>\n",
       "      <td>-78.816616</td>\n",
       "      <td>33.956035</td>\n",
       "      <td>47520.000000</td>\n",
       "      <td>100.000000</td>\n",
       "      <td>0.000000</td>\n",
       "      <td>0.000000</td>\n",
       "      <td>0.000000e+00</td>\n",
       "      <td>-21.000000</td>\n",
       "      <td>0.000000</td>\n",
       "      <td>0.000000</td>\n",
       "      <td>0.000000</td>\n",
       "      <td>1.000000</td>\n",
       "      <td>2000.000000</td>\n",
       "      <td>33.956035</td>\n",
       "      <td>-78.816616</td>\n",
       "      <td>0.000000</td>\n",
       "      <td>0.000000</td>\n",
       "      <td>0.000000e+00</td>\n",
       "    </tr>\n",
       "    <tr>\n",
       "      <th>25%</th>\n",
       "      <td>-78.680798</td>\n",
       "      <td>35.788266</td>\n",
       "      <td>84916.750000</td>\n",
       "      <td>102.000000</td>\n",
       "      <td>1700.750000</td>\n",
       "      <td>0.000000</td>\n",
       "      <td>8.500000e+03</td>\n",
       "      <td>76.000000</td>\n",
       "      <td>0.000000</td>\n",
       "      <td>0.000000</td>\n",
       "      <td>1.000000</td>\n",
       "      <td>4.000000</td>\n",
       "      <td>2004.000000</td>\n",
       "      <td>35.788266</td>\n",
       "      <td>-78.680916</td>\n",
       "      <td>1.000000</td>\n",
       "      <td>1.000000</td>\n",
       "      <td>1.000000e+02</td>\n",
       "    </tr>\n",
       "    <tr>\n",
       "      <th>50%</th>\n",
       "      <td>-78.637152</td>\n",
       "      <td>35.833694</td>\n",
       "      <td>122313.500000</td>\n",
       "      <td>434.000000</td>\n",
       "      <td>3366.000000</td>\n",
       "      <td>5466.000000</td>\n",
       "      <td>5.000000e+04</td>\n",
       "      <td>110.000000</td>\n",
       "      <td>0.000000</td>\n",
       "      <td>1.000000</td>\n",
       "      <td>1.000000</td>\n",
       "      <td>6.000000</td>\n",
       "      <td>2009.000000</td>\n",
       "      <td>35.833694</td>\n",
       "      <td>-78.637310</td>\n",
       "      <td>2.000000</td>\n",
       "      <td>2.000000</td>\n",
       "      <td>1.002000e+03</td>\n",
       "    </tr>\n",
       "    <tr>\n",
       "      <th>75%</th>\n",
       "      <td>-78.578333</td>\n",
       "      <td>35.884486</td>\n",
       "      <td>159710.250000</td>\n",
       "      <td>434.000000</td>\n",
       "      <td>6953.250000</td>\n",
       "      <td>7565.000000</td>\n",
       "      <td>1.343520e+05</td>\n",
       "      <td>288.000000</td>\n",
       "      <td>0.000000</td>\n",
       "      <td>1.000000</td>\n",
       "      <td>1.000000</td>\n",
       "      <td>9.000000</td>\n",
       "      <td>2015.000000</td>\n",
       "      <td>35.884486</td>\n",
       "      <td>-78.578819</td>\n",
       "      <td>2.000000</td>\n",
       "      <td>4.000000</td>\n",
       "      <td>2.380000e+03</td>\n",
       "    </tr>\n",
       "    <tr>\n",
       "      <th>max</th>\n",
       "      <td>0.000000</td>\n",
       "      <td>35.970246</td>\n",
       "      <td>197912.000000</td>\n",
       "      <td>649.000000</td>\n",
       "      <td>31934.000000</td>\n",
       "      <td>22901.000000</td>\n",
       "      <td>1.700000e+08</td>\n",
       "      <td>757472.000000</td>\n",
       "      <td>5.000000</td>\n",
       "      <td>940.000000</td>\n",
       "      <td>70000.000000</td>\n",
       "      <td>12.000000</td>\n",
       "      <td>2019.000000</td>\n",
       "      <td>35.970246</td>\n",
       "      <td>-78.401195</td>\n",
       "      <td>342365.000000</td>\n",
       "      <td>4.000000</td>\n",
       "      <td>6.627080e+06</td>\n",
       "    </tr>\n",
       "  </tbody>\n",
       "</table>\n",
       "</div>"
      ],
      "text/plain": [
       "                   X              Y       OBJECTID  censuslandusecode  \\\n",
       "count  149588.000000  149255.000000  149588.000000      142254.000000   \n",
       "mean      -78.460858      35.835088  122380.575969         325.068047   \n",
       "std         3.706689       0.058048   43289.418553         170.523606   \n",
       "min       -78.816616      33.956035   47520.000000         100.000000   \n",
       "25%       -78.680798      35.788266   84916.750000         102.000000   \n",
       "50%       -78.637152      35.833694  122313.500000         434.000000   \n",
       "75%       -78.578333      35.884486  159710.250000         434.000000   \n",
       "max         0.000000      35.970246  197912.000000         649.000000   \n",
       "\n",
       "             cocnbr      devplanid  estprojectcost            fee  \\\n",
       "count   2668.000000  129461.000000    1.495880e+05  146371.000000   \n",
       "mean    4614.751874    4712.214381    1.886388e+05     308.594585   \n",
       "std     3971.971744    4528.609002    1.460298e+06    4327.140889   \n",
       "min        0.000000       0.000000    0.000000e+00     -21.000000   \n",
       "25%     1700.750000       0.000000    8.500000e+03      76.000000   \n",
       "50%     3366.000000    5466.000000    5.000000e+04     110.000000   \n",
       "75%     6953.250000    7565.000000    1.343520e+05     288.000000   \n",
       "max    31934.000000   22901.000000    1.700000e+08  757472.000000   \n",
       "\n",
       "       govtownedprop  housingunitsexist  housingunitstotal  issueddate_mth  \\\n",
       "count  147868.000000       79187.000000      123880.000000   144814.000000   \n",
       "mean        0.089857          10.179284           2.716548        6.398221   \n",
       "std         0.562494          46.478067         200.972725        3.259937   \n",
       "min         0.000000           0.000000           0.000000        1.000000   \n",
       "25%         0.000000           0.000000           1.000000        4.000000   \n",
       "50%         0.000000           1.000000           1.000000        6.000000   \n",
       "75%         0.000000           1.000000           1.000000        9.000000   \n",
       "max         5.000000         940.000000       70000.000000       12.000000   \n",
       "\n",
       "       issueddate_yr  latitude_perm  longitude_perm  numberstories  \\\n",
       "count  144814.000000  149255.000000   149255.000000  128541.000000   \n",
       "mean     2009.227948      35.835088      -78.635911       9.575217   \n",
       "std         5.738230       0.058048        0.068494    1090.441290   \n",
       "min      2000.000000      33.956035      -78.816616       0.000000   \n",
       "25%      2004.000000      35.788266      -78.680916       1.000000   \n",
       "50%      2009.000000      35.833694      -78.637310       2.000000   \n",
       "75%      2015.000000      35.884486      -78.578819       2.000000   \n",
       "max      2019.000000      35.970246      -78.401195  342365.000000   \n",
       "\n",
       "       parc_open_space_zone_fee     totalsqft  \n",
       "count             147869.000000  1.440800e+05  \n",
       "mean                   2.459643  2.706109e+03  \n",
       "std                    1.183191  2.127835e+04  \n",
       "min                    0.000000  0.000000e+00  \n",
       "25%                    1.000000  1.000000e+02  \n",
       "50%                    2.000000  1.002000e+03  \n",
       "75%                    4.000000  2.380000e+03  \n",
       "max                    4.000000  6.627080e+06  "
      ]
     },
     "execution_count": 321,
     "metadata": {},
     "output_type": "execute_result"
    }
   ],
   "source": [
    "#Review the summary statistics for the included features\n",
    "#The describe() function computes a summary of statistics pertaining to the DataFrame columns\n",
    "#It gives the mean, std and IQR values summary about numeric columns and excludes the character columns\n",
    "df.describe()"
   ]
  },
  {
   "cell_type": "code",
   "execution_count": 322,
   "metadata": {},
   "outputs": [
    {
     "data": {
      "text/html": [
       "<div>\n",
       "<style scoped>\n",
       "    .dataframe tbody tr th:only-of-type {\n",
       "        vertical-align: middle;\n",
       "    }\n",
       "\n",
       "    .dataframe tbody tr th {\n",
       "        vertical-align: top;\n",
       "    }\n",
       "\n",
       "    .dataframe thead th {\n",
       "        text-align: right;\n",
       "    }\n",
       "</style>\n",
       "<table border=\"1\" class=\"dataframe\">\n",
       "  <thead>\n",
       "    <tr style=\"text-align: right;\">\n",
       "      <th></th>\n",
       "      <th>CreationDate</th>\n",
       "      <th>Creator</th>\n",
       "      <th>EditDate</th>\n",
       "      <th>Editor</th>\n",
       "      <th>GlobalID</th>\n",
       "      <th>applieddate</th>\n",
       "      <th>censuslanduse</th>\n",
       "      <th>cntyacctnum</th>\n",
       "      <th>cocissueddate</th>\n",
       "      <th>coissueddate</th>\n",
       "      <th>...</th>\n",
       "      <th>statuscurrent</th>\n",
       "      <th>statuscurrentmapped</th>\n",
       "      <th>streetdirectionprefix</th>\n",
       "      <th>streetdirectionsuffix</th>\n",
       "      <th>streetname</th>\n",
       "      <th>streetnum</th>\n",
       "      <th>streettype</th>\n",
       "      <th>voiddate</th>\n",
       "      <th>workclass</th>\n",
       "      <th>workclassmapped</th>\n",
       "    </tr>\n",
       "  </thead>\n",
       "  <tbody>\n",
       "    <tr>\n",
       "      <th>count</th>\n",
       "      <td>149588</td>\n",
       "      <td>149588</td>\n",
       "      <td>149588</td>\n",
       "      <td>149588</td>\n",
       "      <td>149588</td>\n",
       "      <td>149588</td>\n",
       "      <td>142254</td>\n",
       "      <td>146302</td>\n",
       "      <td>2820</td>\n",
       "      <td>92232</td>\n",
       "      <td>...</td>\n",
       "      <td>149588</td>\n",
       "      <td>149587</td>\n",
       "      <td>136965</td>\n",
       "      <td>136565</td>\n",
       "      <td>149425</td>\n",
       "      <td>149425</td>\n",
       "      <td>143161</td>\n",
       "      <td>6241</td>\n",
       "      <td>149206</td>\n",
       "      <td>149588</td>\n",
       "    </tr>\n",
       "    <tr>\n",
       "      <th>unique</th>\n",
       "      <td>366</td>\n",
       "      <td>2</td>\n",
       "      <td>62</td>\n",
       "      <td>2</td>\n",
       "      <td>149588</td>\n",
       "      <td>145375</td>\n",
       "      <td>31</td>\n",
       "      <td>73995</td>\n",
       "      <td>2307</td>\n",
       "      <td>34242</td>\n",
       "      <td>...</td>\n",
       "      <td>18</td>\n",
       "      <td>8</td>\n",
       "      <td>7</td>\n",
       "      <td>6</td>\n",
       "      <td>9288</td>\n",
       "      <td>9526</td>\n",
       "      <td>38</td>\n",
       "      <td>4167</td>\n",
       "      <td>47</td>\n",
       "      <td>2</td>\n",
       "    </tr>\n",
       "    <tr>\n",
       "      <th>top</th>\n",
       "      <td>2018-03-16T01:55:55.663Z</td>\n",
       "      <td>justin.greco@raleighnc.gov_ral</td>\n",
       "      <td>2019-07-19T12:56:25.206Z</td>\n",
       "      <td></td>\n",
       "      <td>bd1213fa-6c33-44a1-8ef1-58e5640b2661</td>\n",
       "      <td>2019-06-06T04:00:00.000Z</td>\n",
       "      <td>ADDITION/ALTERATION RESIDENTIAL BLDG</td>\n",
       "      <td>0055726</td>\n",
       "      <td>2019-08-05T04:00:00.000Z</td>\n",
       "      <td>2009-02-04T12:22:53.000Z</td>\n",
       "      <td>...</td>\n",
       "      <td>INACTIVE (INSPECTIONS COMPLETED)</td>\n",
       "      <td>Occupancy</td>\n",
       "      <td></td>\n",
       "      <td></td>\n",
       "      <td>GLENWOOD</td>\n",
       "      <td>3000</td>\n",
       "      <td>DR</td>\n",
       "      <td>2015-04-29T14:28:20.000Z</td>\n",
       "      <td>New Building</td>\n",
       "      <td>Existing</td>\n",
       "    </tr>\n",
       "    <tr>\n",
       "      <th>freq</th>\n",
       "      <td>137048</td>\n",
       "      <td>137048</td>\n",
       "      <td>144908</td>\n",
       "      <td>144908</td>\n",
       "      <td>1</td>\n",
       "      <td>58</td>\n",
       "      <td>52424</td>\n",
       "      <td>509</td>\n",
       "      <td>10</td>\n",
       "      <td>59</td>\n",
       "      <td>...</td>\n",
       "      <td>123376</td>\n",
       "      <td>123376</td>\n",
       "      <td>124657</td>\n",
       "      <td>132988</td>\n",
       "      <td>2415</td>\n",
       "      <td>660</td>\n",
       "      <td>38219</td>\n",
       "      <td>10</td>\n",
       "      <td>49249</td>\n",
       "      <td>100339</td>\n",
       "    </tr>\n",
       "  </tbody>\n",
       "</table>\n",
       "<p>4 rows × 69 columns</p>\n",
       "</div>"
      ],
      "text/plain": [
       "                    CreationDate                         Creator  \\\n",
       "count                     149588                          149588   \n",
       "unique                       366                               2   \n",
       "top     2018-03-16T01:55:55.663Z  justin.greco@raleighnc.gov_ral   \n",
       "freq                      137048                          137048   \n",
       "\n",
       "                        EditDate  Editor  \\\n",
       "count                     149588  149588   \n",
       "unique                        62       2   \n",
       "top     2019-07-19T12:56:25.206Z           \n",
       "freq                      144908  144908   \n",
       "\n",
       "                                    GlobalID               applieddate  \\\n",
       "count                                 149588                    149588   \n",
       "unique                                149588                    145375   \n",
       "top     bd1213fa-6c33-44a1-8ef1-58e5640b2661  2019-06-06T04:00:00.000Z   \n",
       "freq                                       1                        58   \n",
       "\n",
       "                               censuslanduse cntyacctnum  \\\n",
       "count                                 142254      146302   \n",
       "unique                                    31       73995   \n",
       "top     ADDITION/ALTERATION RESIDENTIAL BLDG     0055726   \n",
       "freq                                   52424         509   \n",
       "\n",
       "                   cocissueddate              coissueddate  ...  \\\n",
       "count                       2820                     92232  ...   \n",
       "unique                      2307                     34242  ...   \n",
       "top     2019-08-05T04:00:00.000Z  2009-02-04T12:22:53.000Z  ...   \n",
       "freq                          10                        59  ...   \n",
       "\n",
       "                           statuscurrent statuscurrentmapped  \\\n",
       "count                             149588              149587   \n",
       "unique                                18                   8   \n",
       "top     INACTIVE (INSPECTIONS COMPLETED)           Occupancy   \n",
       "freq                              123376              123376   \n",
       "\n",
       "       streetdirectionprefix streetdirectionsuffix streetname streetnum  \\\n",
       "count                 136965                136565     149425    149425   \n",
       "unique                     7                     6       9288      9526   \n",
       "top                                                  GLENWOOD      3000   \n",
       "freq                  124657                132988       2415       660   \n",
       "\n",
       "       streettype                  voiddate     workclass workclassmapped  \n",
       "count      143161                      6241        149206          149588  \n",
       "unique         38                      4167            47               2  \n",
       "top            DR  2015-04-29T14:28:20.000Z  New Building        Existing  \n",
       "freq        38219                        10         49249          100339  \n",
       "\n",
       "[4 rows x 69 columns]"
      ]
     },
     "execution_count": 322,
     "metadata": {},
     "output_type": "execute_result"
    }
   ],
   "source": [
    "#'include' is the argument which is used to pass necessary information regarding what columns\n",
    "# need to be considered for summarizing. In our case, we have considered object type\n",
    "df.describe(include=['object'])"
   ]
  },
  {
   "cell_type": "markdown",
   "metadata": {},
   "source": [
    "1.2 Total different types of construction :"
   ]
  },
  {
   "cell_type": "code",
   "execution_count": 323,
   "metadata": {},
   "outputs": [
    {
     "data": {
      "text/plain": [
       "18"
      ]
     },
     "execution_count": 323,
     "metadata": {},
     "output_type": "execute_result"
    }
   ],
   "source": [
    "# Get number of unique values in column 'const_type'\n",
    "df.const_type.nunique()"
   ]
  },
  {
   "cell_type": "code",
   "execution_count": 324,
   "metadata": {},
   "outputs": [
    {
     "data": {
      "text/plain": [
       "V  B    91451\n",
       "VI U    18381\n",
       "II B    11951\n",
       "I  B     2719\n",
       "I  A     2173\n",
       "IV U     2029\n",
       "II A     1949\n",
       "IIIB     1921\n",
       "V  A     1856\n",
       "VI P      427\n",
       "II        385\n",
       "IV P      367\n",
       "IIIA      235\n",
       "V  U      223\n",
       "I         121\n",
       "IV        119\n",
       "V  P       52\n",
       "III        25\n",
       "Name: const_type, dtype: int64"
      ]
     },
     "execution_count": 324,
     "metadata": {},
     "output_type": "execute_result"
    }
   ],
   "source": [
    "# count the occurrence of each construction class \n",
    "data = df.const_type.value_counts()\n",
    "data"
   ]
  },
  {
   "cell_type": "code",
   "execution_count": 325,
   "metadata": {},
   "outputs": [
    {
     "data": {
      "text/plain": [
       "Text(0, 0.5, 'Frequency')"
      ]
     },
     "execution_count": 325,
     "metadata": {},
     "output_type": "execute_result"
    },
    {
     "data": {
      "image/png": "[encoded data removed]",
      "text/plain": [
       "<Figure size 1296x360 with 1 Axes>"
      ]
     },
     "metadata": {
      "needs_background": "light"
     },
     "output_type": "display_data"
    }
   ],
   "source": [
    "import matplotlib.pyplot as plt\n",
    "# create a figure and axis \n",
    "fig, ax = plt.subplots(figsize=(18,5)) \n",
    "# get index and values data \n",
    "Construction_type = data.index \n",
    "frequency = data.values \n",
    "# create bar chart \n",
    "ax.bar(Construction_type, frequency) \n",
    "# set title and labels \n",
    "ax.set_title('Different Construction Types') \n",
    "ax.set_xlabel('Construction_type') \n",
    "ax.set_ylabel('Frequency')"
   ]
  },
  {
   "cell_type": "markdown",
   "metadata": {},
   "source": [
    "It can be observed from the Raleigh open dataset that the most used construction type was of type \"V B\"."
   ]
  },
  {
   "cell_type": "code",
   "execution_count": 326,
   "metadata": {},
   "outputs": [
    {
     "data": {
      "text/plain": [
       "array(['V  B', 'II B', None, 'II A', 'I  A', 'V  A', 'I  B', 'IIIA',\n",
       "       'IIIB', 'IV', 'IV U', 'I', 'VI U', 'V  U', 'VI P', 'V  P', 'II',\n",
       "       'IV P', 'III'], dtype=object)"
      ]
     },
     "execution_count": 326,
     "metadata": {},
     "output_type": "execute_result"
    }
   ],
   "source": [
    "#Total different types of construction\n",
    "df.const_type.unique()"
   ]
  },
  {
   "cell_type": "markdown",
   "metadata": {},
   "source": [
    "1.3 Mean and median number of stories"
   ]
  },
  {
   "cell_type": "code",
   "execution_count": 327,
   "metadata": {},
   "outputs": [
    {
     "name": "stdout",
     "output_type": "stream",
     "text": [
      "The average number of stories is 9.575217245859298\n"
     ]
    }
   ],
   "source": [
    "#Mean and median number of stories\n",
    "print(\"The average number of stories is\",df['numberstories'].mean(skipna = True))"
   ]
  },
  {
   "cell_type": "code",
   "execution_count": 328,
   "metadata": {},
   "outputs": [
    {
     "name": "stdout",
     "output_type": "stream",
     "text": [
      "The median number of stories is 2.0\n"
     ]
    }
   ],
   "source": [
    "print(\"The median number of stories is\",df['numberstories'].median(skipna = True))"
   ]
  },
  {
   "cell_type": "markdown",
   "metadata": {},
   "source": [
    "Median of 2 is a value such that a number of stories is equally likely to fall above or below it."
   ]
  },
  {
   "cell_type": "markdown",
   "metadata": {},
   "source": [
    "1.4 Standard deviation for the X and Y coordinates of the permits"
   ]
  },
  {
   "cell_type": "code",
   "execution_count": 329,
   "metadata": {},
   "outputs": [
    {
     "name": "stdout",
     "output_type": "stream",
     "text": [
      "The standard deviation for the X and Y cordinates of the permits are 3.70668918887478 and 0.058048297152903584\n"
     ]
    }
   ],
   "source": [
    "print(\"The standard deviation for the X and Y cordinates of the permits are\",df['X'].std(skipna = True), \"and\", df['Y'].std(skipna = True) )"
   ]
  },
  {
   "cell_type": "markdown",
   "metadata": {},
   "source": [
    "From the above values of standard deviations,we can say that the locations are much farther when we look at the horizontal axis (longitude) as compared to the verical axis (latitude) on the Raleigh map."
   ]
  },
  {
   "cell_type": "markdown",
   "metadata": {},
   "source": [
    "2. Plot the distributions for each of the following features: Estimated Project\n",
    "Cost and Issue Date Month."
   ]
  },
  {
   "cell_type": "code",
   "execution_count": 333,
   "metadata": {
    "scrolled": false
   },
   "outputs": [
    {
     "data": {
      "image/png": "[encoded data removed]",
      "text/plain": [
       "<Figure size 1296x720 with 1 Axes>"
      ]
     },
     "metadata": {
      "needs_background": "light"
     },
     "output_type": "display_data"
    }
   ],
   "source": [
    "#Distribution Plot for Estimated Cost Price\n",
    "plt.subplots(figsize=(18,10)) \n",
    "plt.plot(df['estprojectcost'])\n",
    "plt.grid(True)\n",
    "plt.title(\"Distribution Plot\")\n",
    "plt.xlabel(\"Sample\")\n",
    "plt.ylabel(\"Estimated Cost Price\")\n",
    "plt.show()"
   ]
  },
  {
   "cell_type": "markdown",
   "metadata": {},
   "source": [
    "It can be observed from above plot distribution that the maximum estimated project cost is $170000000. Also, percentile distribution can be seen below:"
   ]
  },
  {
   "cell_type": "code",
   "execution_count": 334,
   "metadata": {},
   "outputs": [
    {
     "data": {
      "text/plain": [
       "count    1.495880e+05\n",
       "mean     1.886388e+05\n",
       "std      1.460298e+06\n",
       "min      0.000000e+00\n",
       "25%      8.500000e+03\n",
       "50%      5.000000e+04\n",
       "75%      1.343520e+05\n",
       "max      1.700000e+08\n",
       "Name: estprojectcost, dtype: float64"
      ]
     },
     "execution_count": 334,
     "metadata": {},
     "output_type": "execute_result"
    }
   ],
   "source": [
    "df['estprojectcost'].describe()"
   ]
  },
  {
   "cell_type": "code",
   "execution_count": 335,
   "metadata": {},
   "outputs": [
    {
     "data": {
      "text/plain": [
       "Text(0, 0.5, 'Frequency')"
      ]
     },
     "execution_count": 335,
     "metadata": {},
     "output_type": "execute_result"
    },
    {
     "data": {
      "image/png": "[encoded data removed]",
      "text/plain": [
       "<Figure size 1296x360 with 1 Axes>"
      ]
     },
     "metadata": {
      "needs_background": "light"
     },
     "output_type": "display_data"
    }
   ],
   "source": [
    "#distribution plot for Issuedate_Month\n",
    "data = df.issueddate_mth.value_counts()\n",
    "fig, ax = plt.subplots(figsize=(18,5)) \n",
    "# get x and y data \n",
    "Issuedate_month = data.index \n",
    "frequency = data.values \n",
    "# create bar chart \n",
    "ax.bar(Issuedate_month, frequency) \n",
    "# set title and labels \n",
    "ax.set_title('Issue Month Frequency') \n",
    "ax.set_xlabel('Issuedate_month') \n",
    "ax.set_ylabel('Frequency')"
   ]
  },
  {
   "cell_type": "markdown",
   "metadata": {},
   "source": [
    "From the above graph,it can be observed that the maximum number of pending/granted permits was carried out in the month of June(6th) across all the years."
   ]
  },
  {
   "cell_type": "markdown",
   "metadata": {},
   "source": [
    "#### A hypothetical executive team is interested in the behavior between Permit IssueYear and Estimated Project Cost, but only for the \"New\" construction work class,with a construction type of \"V B\", and with less than 3 stories. Perform a simpleregression analysis of this relationship and describe what insights we can gleam from this using success metrics. (Hint: Implement handling for missing values and explain your reasoning.)"
   ]
  },
  {
   "cell_type": "markdown",
   "metadata": {},
   "source": [
    "Creating a subset of the dataframe(df_final) with only the specified conditions"
   ]
  },
  {
   "cell_type": "code",
   "execution_count": 336,
   "metadata": {},
   "outputs": [],
   "source": [
    "df_new = df[((df[\"workclass\"]=='New Building') | (df[\"workclass\"]=='NEW BUILDING') | (df[\"workclass\"]=='New Building')) & \n",
    "           (df[\"const_type\"]=='V  B') & (df['numberstories']<3)] "
   ]
  },
  {
   "cell_type": "code",
   "execution_count": 337,
   "metadata": {},
   "outputs": [],
   "source": [
    "df_final=df_new[['issueddate_yr','estprojectcost']]"
   ]
  },
  {
   "cell_type": "code",
   "execution_count": 338,
   "metadata": {},
   "outputs": [
    {
     "name": "stdout",
     "output_type": "stream",
     "text": [
      "<class 'pandas.core.frame.DataFrame'>\n",
      "Int64Index: 31161 entries, 9 to 148358\n",
      "Data columns (total 2 columns):\n",
      "issueddate_yr     31043 non-null float64\n",
      "estprojectcost    31161 non-null float64\n",
      "dtypes: float64(2)\n",
      "memory usage: 730.3 KB\n"
     ]
    }
   ],
   "source": [
    "df_final.info()"
   ]
  },
  {
   "cell_type": "code",
   "execution_count": 339,
   "metadata": {},
   "outputs": [
    {
     "data": {
      "text/plain": [
       "issueddate_yr     118\n",
       "estprojectcost      0\n",
       "dtype: int64"
      ]
     },
     "execution_count": 339,
     "metadata": {},
     "output_type": "execute_result"
    }
   ],
   "source": [
    "# Handling missing data\n",
    "df_final.isnull().sum().sort_values(ascending=False).head()"
   ]
  },
  {
   "cell_type": "markdown",
   "metadata": {},
   "source": [
    "#### Filling the mssing values with 9999. This was the best approach since if it was replaced by mean or median ,then that would be a fake data since it would mean that the year values existed even for the pending building permits"
   ]
  },
  {
   "cell_type": "code",
   "execution_count": 340,
   "metadata": {},
   "outputs": [],
   "source": [
    "df_final['issueddate_yr'].fillna(9999, inplace=True)"
   ]
  },
  {
   "cell_type": "code",
   "execution_count": 341,
   "metadata": {},
   "outputs": [
    {
     "name": "stdout",
     "output_type": "stream",
     "text": [
      "<class 'pandas.core.frame.DataFrame'>\n",
      "Int64Index: 31161 entries, 9 to 148358\n",
      "Data columns (total 2 columns):\n",
      "issueddate_yr     31161 non-null float64\n",
      "estprojectcost    31161 non-null float64\n",
      "dtypes: float64(2)\n",
      "memory usage: 730.3 KB\n"
     ]
    }
   ],
   "source": [
    "df_final.info()"
   ]
  },
  {
   "cell_type": "code",
   "execution_count": 342,
   "metadata": {},
   "outputs": [
    {
     "data": {
      "text/html": [
       "<div>\n",
       "<style scoped>\n",
       "    .dataframe tbody tr th:only-of-type {\n",
       "        vertical-align: middle;\n",
       "    }\n",
       "\n",
       "    .dataframe tbody tr th {\n",
       "        vertical-align: top;\n",
       "    }\n",
       "\n",
       "    .dataframe thead th {\n",
       "        text-align: right;\n",
       "    }\n",
       "</style>\n",
       "<table border=\"1\" class=\"dataframe\">\n",
       "  <thead>\n",
       "    <tr style=\"text-align: right;\">\n",
       "      <th></th>\n",
       "      <th>issueddate_yr</th>\n",
       "      <th>estprojectcost</th>\n",
       "    </tr>\n",
       "  </thead>\n",
       "  <tbody>\n",
       "    <tr>\n",
       "      <th>9</th>\n",
       "      <td>2017</td>\n",
       "      <td>338717</td>\n",
       "    </tr>\n",
       "    <tr>\n",
       "      <th>17</th>\n",
       "      <td>2017</td>\n",
       "      <td>244174</td>\n",
       "    </tr>\n",
       "    <tr>\n",
       "      <th>18</th>\n",
       "      <td>2017</td>\n",
       "      <td>584338</td>\n",
       "    </tr>\n",
       "    <tr>\n",
       "      <th>23</th>\n",
       "      <td>2017</td>\n",
       "      <td>391574</td>\n",
       "    </tr>\n",
       "    <tr>\n",
       "      <th>27</th>\n",
       "      <td>2017</td>\n",
       "      <td>125837</td>\n",
       "    </tr>\n",
       "  </tbody>\n",
       "</table>\n",
       "</div>"
      ],
      "text/plain": [
       "    issueddate_yr  estprojectcost\n",
       "9            2017          338717\n",
       "17           2017          244174\n",
       "18           2017          584338\n",
       "23           2017          391574\n",
       "27           2017          125837"
      ]
     },
     "execution_count": 342,
     "metadata": {},
     "output_type": "execute_result"
    }
   ],
   "source": [
    "df_final = df_final[['issueddate_yr','estprojectcost']].astype(int)\n",
    "df_final.head()"
   ]
  },
  {
   "cell_type": "markdown",
   "metadata": {},
   "source": [
    "#### Plotting the relationship between Estimated Project Cost and Issue Date Month as required by the executive team"
   ]
  },
  {
   "cell_type": "code",
   "execution_count": 343,
   "metadata": {},
   "outputs": [
    {
     "data": {
      "image/png": "[encoded data removed]",
      "text/plain": [
       "<Figure size 1440x360 with 1 Axes>"
      ]
     },
     "metadata": {
      "needs_background": "light"
     },
     "output_type": "display_data"
    }
   ],
   "source": [
    "import seaborn as sns\n",
    "import matplotlib.pyplot as plt\n",
    "df_final.drop(df_final.loc[df_final['issueddate_yr']==9999].index, inplace=True)\n",
    "estprojectcost_sum=df_final.groupby('issueddate_yr')['estprojectcost'].sum()\n",
    "plt.subplots(figsize=(20,5)) \n",
    "plt.scatter(estprojectcost_sum.index,estprojectcost_sum)\n",
    "plt.xticks(np.arange(2001,2020,1))\n",
    "plt.xlabel(\"Issue Date Year\")\n",
    "plt.ylabel(\"Estimated Project Cost\")\n",
    "plt.show()"
   ]
  },
  {
   "cell_type": "markdown",
   "metadata": {},
   "source": [
    "From the above scatter plot,it can be observed that the total estimated project cost for the the \"New\" construction work class,\n",
    "with a construction type of \"V B\" and and with less than 3 stories was seen in the year 2006."
   ]
  },
  {
   "cell_type": "markdown",
   "metadata": {},
   "source": [
    "## Now performing a regression analysis\n",
    "#### Lets try to do regression analysis for sum of estimated project cost for each year.\n"
   ]
  },
  {
   "cell_type": "code",
   "execution_count": 344,
   "metadata": {},
   "outputs": [
    {
     "data": {
      "image/png": "[encoded data removed]",
      "text/plain": [
       "<Figure size 1296x360 with 1 Axes>"
      ]
     },
     "metadata": {
      "needs_background": "light"
     },
     "output_type": "display_data"
    }
   ],
   "source": [
    "from sklearn.linear_model import LinearRegression\n",
    "from sklearn.model_selection import train_test_split\n",
    "lin = LinearRegression()\n",
    "x = estprojectcost_sum.index.values\n",
    "y = estprojectcost_sum.values\n",
    "\n",
    "x =x.reshape(-1,1)\n",
    "y=y.reshape(-1,1)\n",
    "\n",
    "#Split the dataset into the training set and test set\n",
    "xTrain, xTest, yTrain, yTest = train_test_split(x,y,test_size =0.2,random_state = 42)\n",
    "lin.fit(xTrain,yTrain)\n",
    "\n",
    "plt.subplots(figsize=(18,5))\n",
    "plt.scatter(x,y,color= 'blue')\n",
    "plt.plot(x,lin.predict(x),color='red')\n",
    "plt.title('Linear Regression') \n",
    "plt.xlabel('issueddate_yr') \n",
    "plt.ylabel('estprojectcost') \n",
    "  \n",
    "plt.show()"
   ]
  },
  {
   "cell_type": "markdown",
   "metadata": {},
   "source": [
    "#### Trying polynomial"
   ]
  },
  {
   "cell_type": "code",
   "execution_count": 345,
   "metadata": {},
   "outputs": [
    {
     "data": {
      "image/png": "[encoded data removed]",
      "text/plain": [
       "<Figure size 1296x360 with 1 Axes>"
      ]
     },
     "metadata": {
      "needs_background": "light"
     },
     "output_type": "display_data"
    }
   ],
   "source": [
    "# Fitting Polynomial Regression to the dataset \n",
    "from sklearn.preprocessing import PolynomialFeatures \n",
    "  \n",
    "poly = PolynomialFeatures(degree = 4) \n",
    "x_poly = poly.fit_transform(x) \n",
    "  \n",
    "poly.fit(x_poly, y) \n",
    "lin2 = LinearRegression() \n",
    "lin2.fit(x_poly, y) \n",
    "\n",
    "# Visualising the Polynomial Regression results \n",
    "plt.subplots(figsize=(18,5))\n",
    "plt.scatter(x, y, color = 'blue') \n",
    "plt.plot(x, lin2.predict(poly.fit_transform(x)), color = 'red') \n",
    "plt.title('Polynomial Regression') \n",
    "plt.xlabel('issueddate_yr') \n",
    "plt.ylabel('estprojectcost') \n",
    "  \n",
    "plt.show()"
   ]
  },
  {
   "cell_type": "markdown",
   "metadata": {},
   "source": [
    "#### q-q plot for Normality"
   ]
  },
  {
   "cell_type": "code",
   "execution_count": 346,
   "metadata": {},
   "outputs": [
    {
     "data": {
      "image/png": "[encoded data removed]",
      "text/plain": [
       "<Figure size 432x288 with 1 Axes>"
      ]
     },
     "metadata": {
      "needs_background": "light"
     },
     "output_type": "display_data"
    }
   ],
   "source": [
    "from statsmodels.graphics.gofplots import qqplot\n",
    "qqplot(estprojectcost_sum, line='s')\n",
    "plt.show()"
   ]
  },
  {
   "cell_type": "code",
   "execution_count": 347,
   "metadata": {},
   "outputs": [
    {
     "name": "stdout",
     "output_type": "stream",
     "text": [
      "Statistics=0.970, p=0.797\n"
     ]
    }
   ],
   "source": [
    "#Shapiro-Wilk test\n",
    "from scipy.stats import shapiro\n",
    "# normality test\n",
    "stat, p = shapiro(estprojectcost_sum)\n",
    "print('Statistics=%.3f, p=%.3f' % (stat, p))"
   ]
  },
  {
   "cell_type": "markdown",
   "metadata": {},
   "source": [
    "### Success Metrics"
   ]
  },
  {
   "cell_type": "code",
   "execution_count": 348,
   "metadata": {},
   "outputs": [
    {
     "name": "stdout",
     "output_type": "stream",
     "text": [
      "Metrics for Polynomial for the sum of estimated of cost for each year\n",
      "\n",
      "Intercept : [-1.06051803e+15] Coefficient : [[ 0.00000000e+00  1.24575357e+06  1.57164729e+09 -1.04143667e+06\n",
      "   1.94088731e+02]]\n",
      "R2Score : 0.43480917249584794\n",
      "MAE : 166308575.75\n",
      "MSE : 3.1281625784383e+16\n",
      "RMSE : 3.1281625784383e+16\n",
      "Explained Variance : 0.4902499731711101\n"
     ]
    },
    {
     "data": {
      "text/html": [
       "<table class=\"simpletable\">\n",
       "<caption>OLS Regression Results</caption>\n",
       "<tr>\n",
       "  <th>Dep. Variable:</th>            <td>y</td>        <th>  R-squared (uncentered):</th>      <td>   0.797</td>\n",
       "</tr>\n",
       "<tr>\n",
       "  <th>Model:</th>                   <td>OLS</td>       <th>  Adj. R-squared (uncentered):</th> <td>   0.785</td>\n",
       "</tr>\n",
       "<tr>\n",
       "  <th>Method:</th>             <td>Least Squares</td>  <th>  F-statistic:       </th>          <td>   66.60</td>\n",
       "</tr>\n",
       "<tr>\n",
       "  <th>Date:</th>             <td>Sun, 06 Oct 2019</td> <th>  Prob (F-statistic):</th>          <td>2.78e-07</td>\n",
       "</tr>\n",
       "<tr>\n",
       "  <th>Time:</th>                 <td>22:31:09</td>     <th>  Log-Likelihood:    </th>          <td> -148.12</td>\n",
       "</tr>\n",
       "<tr>\n",
       "  <th>No. Observations:</th>      <td>    18</td>      <th>  AIC:               </th>          <td>   298.2</td>\n",
       "</tr>\n",
       "<tr>\n",
       "  <th>Df Residuals:</th>          <td>    17</td>      <th>  BIC:               </th>          <td>   299.1</td>\n",
       "</tr>\n",
       "<tr>\n",
       "  <th>Df Model:</th>              <td>     1</td>      <th>                     </th>              <td> </td>   \n",
       "</tr>\n",
       "<tr>\n",
       "  <th>Covariance Type:</th>      <td>nonrobust</td>    <th>                     </th>              <td> </td>   \n",
       "</tr>\n",
       "</table>\n",
       "<table class=\"simpletable\">\n",
       "<tr>\n",
       "   <td></td>     <th>coef</th>     <th>std err</th>      <th>t</th>      <th>P>|t|</th>  <th>[0.025</th>    <th>0.975]</th>  \n",
       "</tr>\n",
       "<tr>\n",
       "  <th>x1</th> <td> 4.457e-06</td> <td> 5.46e-07</td> <td>    8.161</td> <td> 0.000</td> <td>  3.3e-06</td> <td> 5.61e-06</td>\n",
       "</tr>\n",
       "</table>\n",
       "<table class=\"simpletable\">\n",
       "<tr>\n",
       "  <th>Omnibus:</th>       <td> 0.082</td> <th>  Durbin-Watson:     </th> <td>   0.562</td>\n",
       "</tr>\n",
       "<tr>\n",
       "  <th>Prob(Omnibus):</th> <td> 0.960</td> <th>  Jarque-Bera (JB):  </th> <td>   0.140</td>\n",
       "</tr>\n",
       "<tr>\n",
       "  <th>Skew:</th>          <td> 0.112</td> <th>  Prob(JB):          </th> <td>   0.932</td>\n",
       "</tr>\n",
       "<tr>\n",
       "  <th>Kurtosis:</th>      <td> 2.630</td> <th>  Cond. No.          </th> <td>    1.00</td>\n",
       "</tr>\n",
       "</table><br/><br/>Warnings:<br/>[1] Standard Errors assume that the covariance matrix of the errors is correctly specified."
      ],
      "text/plain": [
       "<class 'statsmodels.iolib.summary.Summary'>\n",
       "\"\"\"\n",
       "                                 OLS Regression Results                                \n",
       "=======================================================================================\n",
       "Dep. Variable:                      y   R-squared (uncentered):                   0.797\n",
       "Model:                            OLS   Adj. R-squared (uncentered):              0.785\n",
       "Method:                 Least Squares   F-statistic:                              66.60\n",
       "Date:                Sun, 06 Oct 2019   Prob (F-statistic):                    2.78e-07\n",
       "Time:                        22:31:09   Log-Likelihood:                         -148.12\n",
       "No. Observations:                  18   AIC:                                      298.2\n",
       "Df Residuals:                      17   BIC:                                      299.1\n",
       "Df Model:                           1                                                  \n",
       "Covariance Type:            nonrobust                                                  \n",
       "==============================================================================\n",
       "                 coef    std err          t      P>|t|      [0.025      0.975]\n",
       "------------------------------------------------------------------------------\n",
       "x1          4.457e-06   5.46e-07      8.161      0.000     3.3e-06    5.61e-06\n",
       "==============================================================================\n",
       "Omnibus:                        0.082   Durbin-Watson:                   0.562\n",
       "Prob(Omnibus):                  0.960   Jarque-Bera (JB):                0.140\n",
       "Skew:                           0.112   Prob(JB):                        0.932\n",
       "Kurtosis:                       2.630   Cond. No.                         1.00\n",
       "==============================================================================\n",
       "\n",
       "Warnings:\n",
       "[1] Standard Errors assume that the covariance matrix of the errors is correctly specified.\n",
       "\"\"\""
      ]
     },
     "execution_count": 348,
     "metadata": {},
     "output_type": "execute_result"
    }
   ],
   "source": [
    "#For sum of estimated cost per year using polynomial regression\n",
    "import scipy.stats as stats\n",
    "from sklearn import metrics\n",
    "from sklearn.metrics import r2_score\n",
    "from sklearn.metrics import accuracy_score\n",
    "r2score = r2_score(yTest,lin2.predict(poly.fit_transform(xTest)))\n",
    "mae = metrics.mean_absolute_error(yTest,lin2.predict(poly.fit_transform(xTest)))\n",
    "mse= metrics.mean_squared_error(yTest,lin2.predict(poly.fit_transform(xTest)))\n",
    "rmse=round(mse,4)\n",
    "explainedvar= metrics.explained_variance_score(yTest,lin2.predict(poly.fit_transform(xTest)))\n",
    "\n",
    "print('Metrics for Polynomial for the sum of estimated of cost for each year\\n')\n",
    "print('Intercept :',lin2.intercept_ ,'Coefficient :', lin2.coef_)\n",
    "print(\"R2Score :\",r2score)\n",
    "print(\"MAE :\",mae)\n",
    "print(\"MSE :\",mse)\n",
    "print(\"RMSE :\",rmse)\n",
    "print(\"Explained Variance :\",explainedvar)\n",
    "\n",
    "#Summary Statistics\n",
    "from statsmodels.api import OLS\n",
    "OLS(x,y).fit().summary()\n"
   ]
  },
  {
   "cell_type": "markdown",
   "metadata": {},
   "source": [
    "<br>INFERENCES:</br>\n",
    "<br>1.This model can explain 43% (r2score) variation in the estimated project cost.</br>\n",
    "<br>2.From the plot,we can clearly observe that data is not linear data.Hence, it does not confirm linearity assumptions of regression analysis.</br>\n",
    "<br>3.Shapiro-wilk test and qq plot shows that the data looks like it is drawn from a gaussian distribution.</br>"
   ]
  },
  {
   "cell_type": "markdown",
   "metadata": {},
   "source": [
    "### Now lets try to do regression analysis for all the data points of the subset data."
   ]
  },
  {
   "cell_type": "code",
   "execution_count": 349,
   "metadata": {},
   "outputs": [
    {
     "data": {
      "image/png": "[encoded data removed]",
      "text/plain": [
       "<Figure size 1296x360 with 1 Axes>"
      ]
     },
     "metadata": {
      "needs_background": "light"
     },
     "output_type": "display_data"
    }
   ],
   "source": [
    "from sklearn.linear_model import LinearRegression\n",
    "from sklearn.model_selection import train_test_split\n",
    "lin = LinearRegression()\n",
    "x = df_final.iloc[:,0].values\n",
    "y = df_final.iloc[:, 1].values\n",
    "\n",
    "x =x.reshape(-1,1)\n",
    "y=y.reshape(-1,1)\n",
    "\n",
    "#Split the dataset into the training set and test set\n",
    "xTrain, xTest, yTrain, yTest = train_test_split(x,y,test_size =0.2,random_state = 42)\n",
    "lin.fit(xTrain,yTrain)\n",
    "\n",
    "# Visualising the Linear Regression results \n",
    "plt.subplots(figsize=(18,5))\n",
    "plt.scatter(xTrain,yTrain,color= 'blue')\n",
    "plt.plot(xTest,lin.predict(xTest),color='red')\n",
    "plt.title('Linear Regression') \n",
    "plt.xlabel('issueddate_yr') \n",
    "plt.ylabel('estprojectcost') \n",
    "  \n",
    "plt.show()"
   ]
  },
  {
   "cell_type": "markdown",
   "metadata": {},
   "source": [
    "#### q-q plot for Normality"
   ]
  },
  {
   "cell_type": "code",
   "execution_count": 350,
   "metadata": {},
   "outputs": [
    {
     "data": {
      "image/png": "[encoded data removed]",
      "text/plain": [
       "<Figure size 432x288 with 1 Axes>"
      ]
     },
     "metadata": {
      "needs_background": "light"
     },
     "output_type": "display_data"
    }
   ],
   "source": [
    "from statsmodels.graphics.gofplots import qqplot\n",
    "qqplot(df_final['estprojectcost'], line='s')\n",
    "plt.show()"
   ]
  },
  {
   "cell_type": "code",
   "execution_count": 351,
   "metadata": {},
   "outputs": [
    {
     "name": "stdout",
     "output_type": "stream",
     "text": [
      "Statistics=0.043, p=0.000\n"
     ]
    }
   ],
   "source": [
    "#Shapiro-Wilk test\n",
    "from scipy.stats import shapiro\n",
    "stat, p = shapiro(df_final['estprojectcost']) #estprojectcost_sum)\n",
    "# normality test\n",
    "print('Statistics=%.3f, p=%.3f' % (stat, p))"
   ]
  },
  {
   "cell_type": "markdown",
   "metadata": {},
   "source": [
    "### Success Metrics"
   ]
  },
  {
   "cell_type": "code",
   "execution_count": 352,
   "metadata": {},
   "outputs": [
    {
     "name": "stdout",
     "output_type": "stream",
     "text": [
      "Metrics for all the data points taken individually for each year\n",
      "\n",
      "Intercept : [-23656927.48449863] Coefficient : [[11883.56385887]]\n",
      "R2Score : 0.11537590824615251\n",
      "MAE : 98414.33896328474\n",
      "MSE : 25927991621.781193\n",
      "RMSE : 25927991621.7812\n",
      "Explained Variance : 0.11836683929199976\n"
     ]
    },
    {
     "data": {
      "text/html": [
       "<table class=\"simpletable\">\n",
       "<caption>OLS Regression Results</caption>\n",
       "<tr>\n",
       "  <th>Dep. Variable:</th>            <td>y</td>        <th>  R-squared (uncentered):</th>       <td>   0.060</td>  \n",
       "</tr>\n",
       "<tr>\n",
       "  <th>Model:</th>                   <td>OLS</td>       <th>  Adj. R-squared (uncentered):</th>  <td>   0.060</td>  \n",
       "</tr>\n",
       "<tr>\n",
       "  <th>Method:</th>             <td>Least Squares</td>  <th>  F-statistic:       </th>           <td>   1983.</td>  \n",
       "</tr>\n",
       "<tr>\n",
       "  <th>Date:</th>             <td>Sun, 06 Oct 2019</td> <th>  Prob (F-statistic):</th>            <td>  0.00</td>   \n",
       "</tr>\n",
       "<tr>\n",
       "  <th>Time:</th>                 <td>22:31:18</td>     <th>  Log-Likelihood:    </th>          <td>-2.7917e+05</td>\n",
       "</tr>\n",
       "<tr>\n",
       "  <th>No. Observations:</th>      <td> 31043</td>      <th>  AIC:               </th>           <td>5.583e+05</td> \n",
       "</tr>\n",
       "<tr>\n",
       "  <th>Df Residuals:</th>          <td> 31042</td>      <th>  BIC:               </th>           <td>5.584e+05</td> \n",
       "</tr>\n",
       "<tr>\n",
       "  <th>Df Model:</th>              <td>     1</td>      <th>                     </th>               <td> </td>     \n",
       "</tr>\n",
       "<tr>\n",
       "  <th>Covariance Type:</th>      <td>nonrobust</td>    <th>                     </th>               <td> </td>     \n",
       "</tr>\n",
       "</table>\n",
       "<table class=\"simpletable\">\n",
       "<tr>\n",
       "   <td></td>     <th>coef</th>     <th>std err</th>      <th>t</th>      <th>P>|t|</th>  <th>[0.025</th>    <th>0.975]</th>  \n",
       "</tr>\n",
       "<tr>\n",
       "  <th>x1</th> <td>    0.0006</td> <td>  1.3e-05</td> <td>   44.533</td> <td> 0.000</td> <td>    0.001</td> <td>    0.001</td>\n",
       "</tr>\n",
       "</table>\n",
       "<table class=\"simpletable\">\n",
       "<tr>\n",
       "  <th>Omnibus:</th>       <td>128524.316</td> <th>  Durbin-Watson:     </th>     <td>   0.118</td>    \n",
       "</tr>\n",
       "<tr>\n",
       "  <th>Prob(Omnibus):</th>   <td> 0.000</td>   <th>  Jarque-Bera (JB):  </th> <td>246700111039.859</td>\n",
       "</tr>\n",
       "<tr>\n",
       "  <th>Skew:</th>           <td>-114.314</td>  <th>  Prob(JB):          </th>     <td>    0.00</td>    \n",
       "</tr>\n",
       "<tr>\n",
       "  <th>Kurtosis:</th>       <td>13811.577</td> <th>  Cond. No.          </th>     <td>    1.00</td>    \n",
       "</tr>\n",
       "</table><br/><br/>Warnings:<br/>[1] Standard Errors assume that the covariance matrix of the errors is correctly specified."
      ],
      "text/plain": [
       "<class 'statsmodels.iolib.summary.Summary'>\n",
       "\"\"\"\n",
       "                                 OLS Regression Results                                \n",
       "=======================================================================================\n",
       "Dep. Variable:                      y   R-squared (uncentered):                   0.060\n",
       "Model:                            OLS   Adj. R-squared (uncentered):              0.060\n",
       "Method:                 Least Squares   F-statistic:                              1983.\n",
       "Date:                Sun, 06 Oct 2019   Prob (F-statistic):                        0.00\n",
       "Time:                        22:31:18   Log-Likelihood:                     -2.7917e+05\n",
       "No. Observations:               31043   AIC:                                  5.583e+05\n",
       "Df Residuals:                   31042   BIC:                                  5.584e+05\n",
       "Df Model:                           1                                                  \n",
       "Covariance Type:            nonrobust                                                  \n",
       "==============================================================================\n",
       "                 coef    std err          t      P>|t|      [0.025      0.975]\n",
       "------------------------------------------------------------------------------\n",
       "x1             0.0006    1.3e-05     44.533      0.000       0.001       0.001\n",
       "==============================================================================\n",
       "Omnibus:                   128524.316   Durbin-Watson:                   0.118\n",
       "Prob(Omnibus):                  0.000   Jarque-Bera (JB):     246700111039.859\n",
       "Skew:                        -114.314   Prob(JB):                         0.00\n",
       "Kurtosis:                   13811.577   Cond. No.                         1.00\n",
       "==============================================================================\n",
       "\n",
       "Warnings:\n",
       "[1] Standard Errors assume that the covariance matrix of the errors is correctly specified.\n",
       "\"\"\""
      ]
     },
     "execution_count": 352,
     "metadata": {},
     "output_type": "execute_result"
    }
   ],
   "source": [
    "#For all data points\n",
    "import scipy.stats as stats\n",
    "from sklearn.linear_model import LinearRegression\n",
    "from sklearn import metrics\n",
    "from sklearn.metrics import r2_score\n",
    "from sklearn.metrics import accuracy_score\n",
    "r2score = r2_score(yTest,lin.predict(xTest))\n",
    "mae = metrics.mean_absolute_error(yTest,lin.predict(xTest))\n",
    "mse= metrics.mean_squared_error(yTest,lin.predict(xTest))\n",
    "rmse=round(mse,4)\n",
    "explainedvar= metrics.explained_variance_score(yTest,lin.predict(xTest))\n",
    "\n",
    "print('Metrics for all the data points taken individually for each year\\n')\n",
    "print('Intercept :',lin.intercept_ ,'Coefficient :', lin.coef_)\n",
    "print(\"R2Score :\",r2score)\n",
    "print(\"MAE :\",mae)\n",
    "print(\"MSE :\",mse)\n",
    "print(\"RMSE :\",rmse)\n",
    "print(\"Explained Variance :\",explainedvar)\n",
    "\n",
    "#Summary Statistics\n",
    "from statsmodels.api import OLS\n",
    "OLS(x,y).fit().summary()"
   ]
  },
  {
   "cell_type": "markdown",
   "metadata": {},
   "source": [
    "<br>INFERENCES :</br>\n",
    "<br>1.This model can explain 11 percent (r2score) variation in the estimated project cost.\n",
    "    Hence,above model (regression analysis for sum of estimated project cost for each year) is better in terms of explaining estimated project cost.</br>\n",
    "<br>2.From the above plot,we can clearly observe that data is not linear.Hence, it does not confirm linearity assumptions of regression analysis.</br>\n",
    "<br>3.Shapiro-wilk test and qq plot shows that the data looks like it is not drawn from a gaussian distribution.</br>"
   ]
  },
  {
   "cell_type": "markdown",
   "metadata": {},
   "source": [
    "### Time Series Analysis"
   ]
  },
  {
   "cell_type": "code",
   "execution_count": 353,
   "metadata": {},
   "outputs": [],
   "source": [
    "df_Reg =pd.DataFrame(estprojectcost_sum)"
   ]
  },
  {
   "cell_type": "code",
   "execution_count": 354,
   "metadata": {},
   "outputs": [
    {
     "data": {
      "text/plain": [
       "(13, 5)"
      ]
     },
     "execution_count": 354,
     "metadata": {},
     "output_type": "execute_result"
    }
   ],
   "source": [
    "X=df_Reg['estprojectcost'].values\n",
    "train = X[0:13]\n",
    "test = X[13:]\n",
    "train.size,test.size"
   ]
  },
  {
   "cell_type": "code",
   "execution_count": 355,
   "metadata": {},
   "outputs": [
    {
     "data": {
      "text/plain": [
       "27"
      ]
     },
     "execution_count": 355,
     "metadata": {},
     "output_type": "execute_result"
    }
   ],
   "source": [
    "#creating combinations of orders for AR model,Differencing and MA model\n",
    "import itertools\n",
    "p=d=q=range(0,3)\n",
    "pdq = list(itertools.product(p,d,q))\n",
    "len(pdq)"
   ]
  },
  {
   "cell_type": "code",
   "execution_count": 356,
   "metadata": {},
   "outputs": [
    {
     "name": "stdout",
     "output_type": "stream",
     "text": [
      "(0, 0, 0) 536.3741590022829\n",
      "(0, 0, 1) 533.575050201401\n",
      "(0, 0, 2) 533.3500264677401\n",
      "(0, 1, 0) 492.312351177909\n",
      "(0, 1, 1) 493.6039974970547\n",
      "(0, 1, 2) 495.21971160958844\n",
      "(0, 2, 0) 453.36914778826565\n",
      "(0, 2, 1) 454.3573333283949\n",
      "(0, 2, 2) 456.3572869014493\n",
      "(1, 0, 0) 533.705809915173\n",
      "(1, 1, 0) 493.4111733120171\n",
      "(1, 1, 1) 495.40181346665577\n",
      "(1, 1, 2) 496.1611042323676\n",
      "(1, 2, 0) 454.36769373862336\n",
      "(1, 2, 1) 455.9307029875813\n",
      "(1, 2, 2) 458.2937509132739\n",
      "(2, 0, 0) 533.5700834763526\n",
      "(2, 0, 1) 531.1885069722437\n",
      "(2, 0, 2) 537.3114379913764\n",
      "(2, 1, 0) 495.39258365093247\n",
      "(2, 1, 1) 497.9227778486676\n",
      "(2, 1, 2) 497.92930975641434\n",
      "(2, 2, 0) 456.3676915326817\n",
      "(2, 2, 1) 458.21478082158796\n"
     ]
    }
   ],
   "source": [
    "for param in pdq:\n",
    "    try:\n",
    "        model_arima = ARIMA(train,order=param)\n",
    "        model_arima_fit = model_arima.fit()\n",
    "        print(param,model_arima_fit.aic)\n",
    "        \n",
    "    except:\n",
    "        continue"
   ]
  },
  {
   "cell_type": "code",
   "execution_count": 357,
   "metadata": {},
   "outputs": [
    {
     "name": "stdout",
     "output_type": "stream",
     "text": [
      "533.705809915173\n"
     ]
    }
   ],
   "source": [
    "from statsmodels.tsa.arima_model import ARIMA\n",
    "from sklearn.metrics import mean_squared_error\n",
    "model_arima = ARIMA(train,order=(1, 0, 0))\n",
    "model_arima_fit = model_arima.fit()\n",
    "print(model_arima_fit.aic)"
   ]
  },
  {
   "cell_type": "code",
   "execution_count": 358,
   "metadata": {},
   "outputs": [
    {
     "name": "stdout",
     "output_type": "stream",
     "text": [
      "                              ARMA Model Results                              \n",
      "==============================================================================\n",
      "Dep. Variable:                      y   No. Observations:                   13\n",
      "Model:                     ARMA(1, 0)   Log Likelihood                -263.853\n",
      "Method:                       css-mle   S.D. of innovations      154979982.054\n",
      "Date:                Sun, 06 Oct 2019   AIC                            533.706\n",
      "Time:                        22:31:30   BIC                            535.401\n",
      "Sample:                             0   HQIC                           533.357\n",
      "                                                                              \n",
      "==============================================================================\n",
      "                 coef    std err          z      P>|z|      [0.025      0.975]\n",
      "------------------------------------------------------------------------------\n",
      "const       3.866e+08   1.03e+08      3.757      0.003    1.85e+08    5.88e+08\n",
      "ar.L1.y        0.6196      0.246      2.523      0.028       0.138       1.101\n",
      "                                    Roots                                    \n",
      "=============================================================================\n",
      "                  Real          Imaginary           Modulus         Frequency\n",
      "-----------------------------------------------------------------------------\n",
      "AR.1            1.6138           +0.0000j            1.6138            0.0000\n",
      "-----------------------------------------------------------------------------\n"
     ]
    }
   ],
   "source": [
    "print(model_arima_fit.summary())"
   ]
  },
  {
   "cell_type": "code",
   "execution_count": 359,
   "metadata": {},
   "outputs": [
    {
     "data": {
      "text/html": [
       "<div>\n",
       "<style scoped>\n",
       "    .dataframe tbody tr th:only-of-type {\n",
       "        vertical-align: middle;\n",
       "    }\n",
       "\n",
       "    .dataframe tbody tr th {\n",
       "        vertical-align: top;\n",
       "    }\n",
       "\n",
       "    .dataframe thead th {\n",
       "        text-align: right;\n",
       "    }\n",
       "</style>\n",
       "<table border=\"1\" class=\"dataframe\">\n",
       "  <thead>\n",
       "    <tr style=\"text-align: right;\">\n",
       "      <th></th>\n",
       "      <th>test_values</th>\n",
       "      <th>pred_values</th>\n",
       "      <th>%Error</th>\n",
       "    </tr>\n",
       "  </thead>\n",
       "  <tbody>\n",
       "    <tr>\n",
       "      <th>0</th>\n",
       "      <td>368503278</td>\n",
       "      <td>3.570929e+08</td>\n",
       "      <td>3.096422</td>\n",
       "    </tr>\n",
       "    <tr>\n",
       "      <th>1</th>\n",
       "      <td>398055981</td>\n",
       "      <td>3.683074e+08</td>\n",
       "      <td>7.473477</td>\n",
       "    </tr>\n",
       "    <tr>\n",
       "      <th>2</th>\n",
       "      <td>362111961</td>\n",
       "      <td>3.752563e+08</td>\n",
       "      <td>-3.629922</td>\n",
       "    </tr>\n",
       "    <tr>\n",
       "      <th>3</th>\n",
       "      <td>291240065</td>\n",
       "      <td>3.795622e+08</td>\n",
       "      <td>-30.326241</td>\n",
       "    </tr>\n",
       "    <tr>\n",
       "      <th>4</th>\n",
       "      <td>25510402</td>\n",
       "      <td>3.822303e+08</td>\n",
       "      <td>-1398.331300</td>\n",
       "    </tr>\n",
       "  </tbody>\n",
       "</table>\n",
       "</div>"
      ],
      "text/plain": [
       "   test_values   pred_values       %Error\n",
       "0    368503278  3.570929e+08     3.096422\n",
       "1    398055981  3.683074e+08     7.473477\n",
       "2    362111961  3.752563e+08    -3.629922\n",
       "3    291240065  3.795622e+08   -30.326241\n",
       "4     25510402  3.822303e+08 -1398.331300"
      ]
     },
     "execution_count": 359,
     "metadata": {},
     "output_type": "execute_result"
    }
   ],
   "source": [
    "predictions= model_arima_fit.forecast(steps=5)[0]\n",
    "predictions\n",
    "\n",
    "\n",
    "Comparison=pd.DataFrame({\"test_values\":test,\"pred_values\":predictions})\n",
    "Comparison['%Error']=((Comparison['test_values']-Comparison['pred_values'])/Comparison['test_values'])*100\n",
    "Comparison"
   ]
  },
  {
   "cell_type": "code",
   "execution_count": 360,
   "metadata": {},
   "outputs": [
    {
     "data": {
      "text/plain": [
       "2.7247573993984956e+16"
      ]
     },
     "execution_count": 360,
     "metadata": {},
     "output_type": "execute_result"
    }
   ],
   "source": [
    "mean_squared_error(test,predictions)"
   ]
  },
  {
   "cell_type": "code",
   "execution_count": 361,
   "metadata": {},
   "outputs": [
    {
     "data": {
      "text/plain": [
       "[<matplotlib.lines.Line2D at 0x1cede3c518>]"
      ]
     },
     "execution_count": 361,
     "metadata": {},
     "output_type": "execute_result"
    },
    {
     "data": {
      "image/png": "[encoded data removed]",
      "text/plain": [
       "<Figure size 720x576 with 1 Axes>"
      ]
     },
     "metadata": {
      "needs_background": "light"
     },
     "output_type": "display_data"
    }
   ],
   "source": [
    "plt.subplots(figsize=(10,8))\n",
    "plt.plot(test,color='blue')\n",
    "plt.plot(predictions,color='red')"
   ]
  },
  {
   "cell_type": "markdown",
   "metadata": {},
   "source": [
    "<br>1.In the above section,I tried using the ARIMA model in order to implement time series forecasting.</br>\n",
    "<br>2.We have only 18 data points (since we are trying to understand the relationship between issue date year and estimated project cost) which is insufficient to understand this relationship in terms of time series.</br>\n",
    "<br>3.I tried selecting the model orders with the lower AIC values, however, I observed it was giving negative predictions for the model.</br>\n",
    "<br>4.The nearest best fit we got was with orders 1,0,0 as displayed above, which gave us nearly good predictions and low % errors.</br>\n",
    "<br>5.Hence for implementing time series on this data we would require more samples</br>\n"
   ]
  },
  {
   "cell_type": "markdown",
   "metadata": {},
   "source": [
    "# Suggestions-Additional techniques or methodologies"
   ]
  },
  {
   "cell_type": "markdown",
   "metadata": {},
   "source": [
    "<br>1.On further scrutiny,I found that the correlation between estimated project cost (target variable) and fee,total square foot (variables) looks significant.Including them in my analysis could have led to better results.\n",
    "The correlation plot can be observed below.</br>\n",
    "<br>2.In order to improve this analysis, we need to check for LINE assumptions (Linearity,Independence,Normality,Equality of Variance).If we are failing in these assumptions,then GLM (Generalized Linear Model) could be a better option.</br>\n",
    "<br>3.If we consider working further with time series forecasting, we require more data in order to build a robust model.Hence, we can use the Issueddate and MonthIssued columns for predicting estimated project cost on daily/ monthly basis.</br>"
   ]
  },
  {
   "cell_type": "code",
   "execution_count": 362,
   "metadata": {},
   "outputs": [
    {
     "data": {
      "text/plain": [
       "<matplotlib.axes._subplots.AxesSubplot at 0x1ab56940f0>"
      ]
     },
     "execution_count": 362,
     "metadata": {},
     "output_type": "execute_result"
    },
    {
     "data": {
      "image/png": "[encoded data removed]",
      "text/plain": [
       "<Figure size 1296x576 with 2 Axes>"
      ]
     },
     "metadata": {
      "needs_background": "light"
     },
     "output_type": "display_data"
    }
   ],
   "source": [
    "corrmat = df.corr() \n",
    "f, ax = plt.subplots(figsize =(18, 8)) \n",
    "sns.heatmap(corrmat, ax = ax, cmap =\"YlGnBu\", linewidths = 0.1) "
   ]
  }
 ],
 "metadata": {
  "kernelspec": {
   "display_name": "Python 3",
   "language": "python",
   "name": "python3"
  },
  "language_info": {
   "codemirror_mode": {
    "name": "ipython",
    "version": 3
   },
   "file_extension": ".py",
   "mimetype": "text/x-python",
   "name": "python",
   "nbconvert_exporter": "python",
   "pygments_lexer": "ipython3",
   "version": "3.7.3"
  }
 },
 "nbformat": 4,
 "nbformat_minor": 2
}
