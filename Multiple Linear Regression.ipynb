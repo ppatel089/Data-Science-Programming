{
 "cells": [
  {
   "cell_type": "code",
   "execution_count": 50,
   "metadata": {},
   "outputs": [],
   "source": [
    "import pandas as pd\n",
    "import numpy as np\n",
    "import matplotlib.pyplot as plt\n",
    "import seaborn as sns\n",
    "%matplotlib inline\n"
   ]
  },
  {
   "cell_type": "code",
   "execution_count": 51,
   "metadata": {},
   "outputs": [],
   "source": [
    "df = pd.read_csv(\"1000_Companies.csv\")"
   ]
  },
  {
   "cell_type": "code",
   "execution_count": 52,
   "metadata": {},
   "outputs": [
    {
     "data": {
      "text/plain": [
       "California    344\n",
       "New York      334\n",
       "Florida       322\n",
       "Name: State, dtype: int64"
      ]
     },
     "execution_count": 52,
     "metadata": {},
     "output_type": "execute_result"
    }
   ],
   "source": [
    "df.head()\n",
    "df.State.value_counts()"
   ]
  },
  {
   "cell_type": "code",
   "execution_count": 53,
   "metadata": {},
   "outputs": [],
   "source": [
    "X = df.iloc[:,:-1].values"
   ]
  },
  {
   "cell_type": "code",
   "execution_count": 54,
   "metadata": {},
   "outputs": [],
   "source": [
    "y = df.iloc[:,4].values"
   ]
  },
  {
   "cell_type": "code",
   "execution_count": 55,
   "metadata": {},
   "outputs": [
    {
     "data": {
      "text/plain": [
       "array([[165349.2, 136897.8, 471784.1, 'New York'],\n",
       "       [162597.7, 151377.59, 443898.53, 'California'],\n",
       "       [153441.51, 101145.55, 407934.54, 'Florida'],\n",
       "       ...,\n",
       "       [100275.47, 241926.31, 227142.82, 'California'],\n",
       "       [128456.23, 321652.14, 281692.32, 'California'],\n",
       "       [161181.72, 270939.86, 295442.17, 'New York']], dtype=object)"
      ]
     },
     "execution_count": 55,
     "metadata": {},
     "output_type": "execute_result"
    }
   ],
   "source": [
    "X"
   ]
  },
  {
   "cell_type": "code",
   "execution_count": 56,
   "metadata": {},
   "outputs": [
    {
     "data": {
      "text/plain": [
       "array([192261.83   , 191792.06   , 191050.39   , 182901.99   ,\n",
       "       166187.94   , 156991.12   , 156122.51   , 155752.6    ,\n",
       "       152211.77   , 149759.96   , 146121.95   , 144259.4    ,\n",
       "       141585.52   , 134307.35   , 132602.65   , 129917.04   ,\n",
       "       126992.93   , 125370.37   , 124266.9    , 122776.86   ,\n",
       "       118474.03   , 111313.02   , 110352.25   , 108733.99   ,\n",
       "       108552.04   , 107404.34   , 105733.54   , 105008.31   ,\n",
       "       103282.38   , 101004.64   ,  99937.59   ,  97483.56   ,\n",
       "        97427.84   ,  96778.92   ,  96712.8    ,  96479.51   ,\n",
       "        90708.19   ,  89949.14   ,  81229.06   ,  81005.76   ,\n",
       "        78239.91   ,  77798.83   ,  71498.49   ,  69758.98   ,\n",
       "        65200.33   ,  64926.08   ,  49490.75   ,  42559.73   ,\n",
       "        35673.41   ,  14681.4    , 123485.2464 ,  82155.48418,\n",
       "       125867.0108 , 104976.1696 ,  89803.10053,  75297.23305,\n",
       "       114284.5283 , 171985.0761 ,  72337.96774, 169566.5772 ,\n",
       "       158670.9451 , 114522.8756 ,  85842.60573, 101106.2297 ,\n",
       "        59328.81874, 157142.6178 ,  68669.64059, 177717.3712 ,\n",
       "        94409.4396 , 183945.1553 ,  82484.38635, 144515.3371 ,\n",
       "       105333.2634 , 122331.0988 , 168459.4156 ,  60947.70089,\n",
       "       162733.9549 , 181574.4968 ,  73577.54452,  84782.43014,\n",
       "       168870.3298 ,  72607.06952,  56788.15621,  67473.63267,\n",
       "        52731.98078, 140237.9002 , 166598.769  , 102990.7964 ,\n",
       "        78406.85364, 111764.3688 ,  63662.63887, 142575.2414 ,\n",
       "       115980.2967 , 132915.7689 , 155954.2985 , 167412.0544 ,\n",
       "        88710.46186, 164139.2642 , 131574.5314 , 169314.5613 ,\n",
       "        86636.24242, 177468.7724 , 157979.8234 ,  56944.49153,\n",
       "        98500.64098,  87218.86913, 178759.6067 , 101668.3534 ,\n",
       "       151782.7938 ,  68872.96194, 139016.2635 ,  69109.60065,\n",
       "        55091.53354, 136286.8026 , 122307.1786 , 154356.7737 ,\n",
       "       114806.5004 ,  55623.75707,  73896.1952 , 172901.7308 ,\n",
       "       129480.6633 , 115890.5961 , 169404.2619 , 161666.9449 ,\n",
       "        50116.99489,  86613.17655,  91640.68127, 138793.2935 ,\n",
       "       128986.8828 , 111461.9497 , 129804.4397 , 178847.5987 ,\n",
       "       101028.4891 , 136845.5092 ,  94579.44358, 148748.3508 ,\n",
       "        91139.21223, 173343.3994 , 175906.2735 , 112883.4905 ,\n",
       "       138079.1059 ,  78689.62408, 140832.487  , 182316.0217 ,\n",
       "       129232.9188 , 152520.9015 , 133849.5093 , 169431.5992 ,\n",
       "       109333.0556 , 121505.8533 , 108917.0157 , 169324.8128 ,\n",
       "       161423.4719 , 171478.4813 , 137670.7546 , 105582.7164 ,\n",
       "       141472.3512 , 169572.5573 , 126993.8211 , 119743.4502 ,\n",
       "       103155.6747 ,  86313.32028, 105674.9799 , 152268.8856 ,\n",
       "       101971.6268 , 166402.282  ,  84757.65569, 142289.0538 ,\n",
       "       155518.6099 , 177675.5109 , 111138.1732 , 142490.6665 ,\n",
       "        65814.59883,  88870.21435, 125271.5697 , 163462.6654 ,\n",
       "       154539.592  , 151150.6182 , 178296.5808 , 106401.1276 ,\n",
       "        76644.45054, 110228.3529 , 122570.3004 ,  54205.63339,\n",
       "        73850.06347, 117353.9972 ,  63814.70273,  67199.40514,\n",
       "       181391.6784 , 181550.5766 , 156935.8793 , 181579.6225 ,\n",
       "        94376.97653,  76229.26494,  89583.54765, 176839.1597 ,\n",
       "       113578.8837 ,  74477.11333,  88648.95289,  94066.01447,\n",
       "       146874.0356 , 163549.8031 , 138872.7426 , 121482.7874 ,\n",
       "        89594.65343,  94297.52743, 159509.0049 ,  81169.63193,\n",
       "       117700.8395 ,  61393.64099, 169661.4036 , 171651.9025 ,\n",
       "       128265.0066 ,  75270.75002, 109658.5406 , 145976.1753 ,\n",
       "        53395.76517, 144038.6425 ,  54300.45973,  58223.36571,\n",
       "        66007.66868, 121491.3304 ,  89915.86699, 182098.1774 ,\n",
       "        68160.48294, 136575.5531 , 111422.6523 , 141814.0678 ,\n",
       "        85830.64565, 121927.8732 ,  96616.9285 ,  90687.2921 ,\n",
       "       155424.6379 , 122954.7315 , 113188.4725 , 163883.8311 ,\n",
       "        68984.01982,  99306.23774,  52325.33808,  58694.93455,\n",
       "        80229.05713, 104723.2993 ,  51256.61958,  51336.06868,\n",
       "        53225.76119,  64672.41127, 173263.9503 , 155791.1289 ,\n",
       "       118334.7237 ,  90164.46578, 140872.6387 , 116492.8715 ,\n",
       "        58918.75889,  64349.48913, 164375.9029 , 169059.9825 ,\n",
       "       109663.6663 ,  68719.18949, 102833.6068 , 158338.6258 ,\n",
       "       168686.6571 , 170883.8945 ,  92949.45565, 110023.323  ,\n",
       "       126506.0207 , 130602.3478 , 117289.0711 , 117645.3106 ,\n",
       "       148944.8378 , 114970.5243 , 170174.8327 ,  92758.09438,\n",
       "       142762.3312 , 168802.8408 ,  56138.89476, 160646.0668 ,\n",
       "       162479.376  , 146925.293  ,  61291.12602, 112642.5803 ,\n",
       "       116273.3187 , 109285.2152 , 103264.1697 ,  60111.34964,\n",
       "        55227.36587,  73733.02555,  98129.02423,  82589.46419,\n",
       "       168876.3098 , 104996.6726 , 147736.0156 , 181512.1335 ,\n",
       "        95260.31381,  91977.27207, 126295.865  , 174329.2516 ,\n",
       "       118265.5261 , 153825.4044 ,  94093.35179, 167934.0264 ,\n",
       "       103243.6667 , 160935.6715 , 107019.6345 , 173336.5651 ,\n",
       "        73154.67029, 145877.9318 , 164180.2702 , 184632.0056 ,\n",
       "       151992.0952 , 100693.6069 , 180684.3252 ,  83391.64379,\n",
       "       121140.2166 ,  66656.07583, 123814.1486 , 150292.0553 ,\n",
       "       159514.1307 ,  87019.81924,  96793.76682, 105154.7165 ,\n",
       "       175999.3913 , 169169.3318 , 182911.4628 , 134979.7368 ,\n",
       "        70244.95388, 169623.8148 , 135817.7966 ,  50070.86316,\n",
       "        60368.49134, 182028.1255 ,  92289.08842, 184555.1194 ,\n",
       "       135591.4094 ,  73790.26307, 160667.424  , 121248.7116 ,\n",
       "       135506.8346 , 154351.6479 , 116529.6061 , 142869.1176 ,\n",
       "       131062.8109 , 165941.819  , 172384.0302 , 142712.7823 ,\n",
       "        91790.18226, 100435.6109 , 144750.2672 , 137468.2876 ,\n",
       "       161824.1346 ,  92920.40974, 108421.5267 , 141046.0598 ,\n",
       "       156147.3684 , 182641.5067 , 150475.728  ,  79794.22283,\n",
       "        55832.20416, 152920.7099 , 145711.345  , 128195.809  ,\n",
       "        80504.99325, 172615.5432 , 102213.3913 ,  91240.87291,\n",
       "       158160.0789 ,  54244.9308 , 171176.9165 , 167377.0285 ,\n",
       "       154029.5801 , 105503.2673 ,  65204.63479,  65181.56893,\n",
       "       169235.1122 , 144807.5047 , 171235.8626 ,  92485.57543,\n",
       "       161936.0467 , 107910.6604 , 183965.6583 , 152134.7618 ,\n",
       "        51913.56964,  94320.5933 , 103906.5968 , 136632.7906 ,\n",
       "        72949.64036,  51690.5996 , 106212.3292 , 149849.5324 ,\n",
       "        64574.16776, 120375.6258 , 154765.9792 ,  86983.939  ,\n",
       "       171557.9304 , 157690.2186 ,  67839.26938, 175747.3753 ,\n",
       "        53177.92087, 123648.4161 ,  59636.36364, 105740.7603 ,\n",
       "       165029.4358 , 180633.922  , 126997.2382 , 171687.7827 ,\n",
       "       125636.3521 ,  52225.38599,  59981.49735,  88971.02073,\n",
       "        63306.39937,  58666.74293,  77017.77587, 161008.2863 ,\n",
       "        77847.29279,  97478.0542 ,  85976.72948, 149792.2949 ,\n",
       "       128937.3339 ,  80082.11902, 154238.8815 , 174414.6808 ,\n",
       "       156182.3943 ,  71376.03566, 145680.5905 , 185028.3968 ,\n",
       "        68921.65655, 172937.611  , 150707.2409 , 185352.1732 ,\n",
       "       106018.405  , 131659.9605 , 114839.8177 ,  97372.12207,\n",
       "        78308.61013,  85769.13667, 126436.8231 ,  67226.74247,\n",
       "       174996.4532 ,  59225.44949, 102740.489  , 141180.1836 ,\n",
       "       157325.4362 ,  90312.25819, 162440.0786 , 126117.3181 ,\n",
       "        58784.63514, 165530.0505 ,  90550.60548, 161123.6156 ,\n",
       "        87309.42402,  72735.21323,  97238.85262,  68648.28331,\n",
       "       157529.6118 ,  85529.93509,  80539.1649 , 163525.0287 ,\n",
       "       139080.3354 , 165186.6254 ,  68347.57275,  90544.62544,\n",
       "        88027.88306,  64997.04199, 184979.7022 ,  70555.91594,\n",
       "        91209.26412, 120790.8114 , 157615.041  , 145240.6305 ,\n",
       "        65085.034  ,  75968.70607, 181243.886  , 102274.046  ,\n",
       "       167257.4277 ,  95537.9585 , 158961.4042 ,  80106.89347,\n",
       "       127075.833  , 184887.4387 ,  67282.27141,  77242.4545 ,\n",
       "       164713.348  ,  84909.71956, 160000.2225 ,  73872.27504,\n",
       "       101119.044  , 107252.8561 , 117043.8895 , 155881.6838 ,\n",
       "       141832.0079 ,  81963.26862, 142494.938  , 143333.8521 ,\n",
       "        72478.92582, 134122.8826 ,  57893.60924, 174050.7527 ,\n",
       "        66273.3533 , 139130.7386 ,  99032.8645 , 141073.3972 ,\n",
       "       156340.4382 ,  88072.30621, 126393.2542 ,  65664.24355,\n",
       "       134894.3077 , 110963.8978 , 103171.0519 ,  84808.91317,\n",
       "       139555.3214 ,  68705.52083,  96214.55727,  98444.25774,\n",
       "       145073.1894 , 138588.2636 , 138736.9103 ,  77629.44849,\n",
       "       135641.8126 ,  91657.76709, 169403.4076 , 133617.1421 ,\n",
       "        70509.78421, 124269.4859 ,  54119.34996, 174320.7087 ,\n",
       "       151804.1511 , 180524.5727 ,  54971.93275,  69995.5008 ,\n",
       "        77837.89559, 100556.066  , 184099.7821 , 151774.2509 ,\n",
       "       153976.614  , 183093.4268 ,  91843.14832,  59342.48741,\n",
       "       115751.3466 , 108629.9738 , 182876.4368 , 143061.3332 ,\n",
       "       176623.024  , 154901.8116 , 181946.9678 ,  99906.80457,\n",
       "        77132.25091, 175771.2955 ,  78153.1291 ,  56852.22806,\n",
       "       169564.8687 ,  75445.02546, 148158.0355 , 144203.5207 ,\n",
       "       142226.6905 , 175396.2616 , 118130.5481 , 108776.0576 ,\n",
       "       107382.7084 , 120617.3903 , 150393.716  , 106070.5168 ,\n",
       "       160842.5538 , 146499.0017 ,  97712.98433, 125981.4858 ,\n",
       "        71885.19331, 130070.1243 , 104151.7784 , 106169.6146 ,\n",
       "       147194.3948 , 141527.0259 , 113981.2549 , 184581.6024 ,\n",
       "        54060.40386,  76376.20305,  99301.96628,  98464.76074,\n",
       "       174007.1838 , 128337.6214 , 176344.525  , 107669.7503 ,\n",
       "        90482.26217,  79710.50227,  84583.38025, 166679.9267 ,\n",
       "        74052.53052, 129889.8688 ,  84552.62576, 131051.7051 ,\n",
       "       116205.8296 ,  65471.1737 , 128060.831  , 127773.7891 ,\n",
       "       108896.5127 , 176833.1797 ,  54991.58145, 181929.0277 ,\n",
       "       102873.7585 ,  57541.6412 ,  65513.03398, 162182.9369 ,\n",
       "        51671.80519, 138022.7227 , 180257.1795 ,  60408.64304,\n",
       "       178552.8682 , 182059.7343 , 114403.2748 ,  85101.93511,\n",
       "       157086.2346 , 150024.6621 , 127248.3999 , 154190.1869 ,\n",
       "       126058.372  , 138213.2296 , 101352.2656 , 100958.4372 ,\n",
       "        63373.88839, 179522.4889 , 184865.2271 , 102619.1797 ,\n",
       "       175826.8244 , 165119.1364 , 134268.9664 ,  61306.50327,\n",
       "       165495.0246 ,  77667.8916 , 154051.7917 , 111643.0594 ,\n",
       "       106517.3112 ,  68575.66854, 155915.0011 , 124695.7773 ,\n",
       "       172769.3156 , 185068.5485 , 157591.1208 , 106865.8621 ,\n",
       "       104824.1057 , 120990.7156 ,  56620.7151 , 159613.2285 ,\n",
       "       175705.515  ,  98776.57709, 165987.9507 ,  52609.81711,\n",
       "       117842.6519 ,  80045.38449,  80066.74177, 137719.4492 ,\n",
       "       149477.9157 , 180783.423  , 103404.2734 ,  88302.96488,\n",
       "       100992.6089 , 141082.7944 , 142586.3472 , 175166.4572 ,\n",
       "        56991.47755, 109105.8141 , 167373.6113 , 153627.2089 ,\n",
       "       126846.883  ,  76545.35274,  65255.03798, 171780.0462 ,\n",
       "       118944.6878 , 168285.1402 ,  95226.99644,  59264.74689,\n",
       "       163470.354  , 162747.6235 ,  56775.34184,  79808.74578,\n",
       "        83356.61784,  74502.74207, 145965.9238 ,  59784.15604,\n",
       "       133834.1321 ,  71717.75221,  91441.63138, 164779.9827 ,\n",
       "        98397.27172,  92502.66126, 136315.8485 ,  79796.7857 ,\n",
       "       144805.7962 ,  94294.11026, 100589.3834 ,  81824.87341,\n",
       "        64950.05596, 113472.9515 , 116685.0871 , 114373.3746 ,\n",
       "        99277.19183, 109998.5485 , 124765.8292 , 163155.1205 ,\n",
       "       144820.3191 , 139915.8323 ,  50468.96294,  92362.55748,\n",
       "       158565.8673 ,  79167.17296, 103903.1796 ,  98368.22581,\n",
       "       182202.4009 ,  70232.13951,  53483.75718, 120345.7256 ,\n",
       "       143415.8641 ,  56789.0105 , 110848.5685 , 144287.2413 ,\n",
       "        90108.93684,  85570.94108,  98808.18587,  61960.03617,\n",
       "       127725.0945 ,  70282.5427 , 159431.2644 ,  50994.35213,\n",
       "        83632.55396,  88481.51178, 168402.1781 ,  87716.921  ,\n",
       "       173519.3834 , 177513.1956 , 181258.409  , 119914.3085 ,\n",
       "       152243.2568 , 142852.0318 , 176432.517  , 164424.5975 ,\n",
       "        57258.01646, 177442.2894 , 149190.8738 , 130689.4855 ,\n",
       "       107994.381  , 111257.774  , 123690.2763 , 163138.0347 ,\n",
       "        91370.72519, 166902.0425 ,  55641.69719,  58179.79685,\n",
       "       156545.4682 , 104862.5488 , 181441.2273 , 164884.2062 ,\n",
       "       132897.8287 ,  81580.54608, 127455.1384 , 116045.2229 ,\n",
       "       161630.2104 , 140594.1397 ,  51276.26828, 121248.7116 ,\n",
       "        65868.41919,  60243.7648 ,  52276.64348, 162399.9269 ,\n",
       "        68210.88613, 119961.2945 ,  72657.47271, 182979.8061 ,\n",
       "       112054.8279 ,  74208.01155, 164330.6254 , 174254.9283 ,\n",
       "       119482.037  , 117637.622  , 160252.2384 , 152175.7678 ,\n",
       "       106433.5906 , 120445.6777 , 141408.2794 ,  52086.1365 ,\n",
       "       133019.1381 , 172966.6569 , 163028.6854 , 109278.3809 ,\n",
       "       144130.0517 , 140289.1577 , 141273.3013 ,  57992.70704,\n",
       "       125971.2343 , 120723.3224 , 128977.4856 ,  65219.15775,\n",
       "       100404.0021 , 177911.2954 , 137842.4672 , 127909.6214 ,\n",
       "       154173.101  , 170343.1281 ,  59766.21593,  90712.92084,\n",
       "        93280.9207 ,  87045.44798,  79170.59013, 181485.6505 ,\n",
       "       174421.5151 ,  63924.90632, 140964.9022 ,  55195.75709,\n",
       "       140870.0758 , 169745.1241 ,  83444.60985, 185032.6682 ,\n",
       "       168246.6971 , 156488.2307 , 152900.2069 , 167391.5514 ,\n",
       "       163226.881  , 130427.2181 ,  87219.72342, 125467.2024 ,\n",
       "       173897.8345 , 142927.2094 ,  76356.55435, 158208.7735 ,\n",
       "        67733.33725,  97340.51329, 170464.4375 , 120738.6997 ,\n",
       "       149669.2769 ,  79513.16096, 168145.8907 , 170465.2918 ,\n",
       "       125667.9609 ,  63742.94226, 159389.4041 ,  72870.19126,\n",
       "       124577.0308 , 177000.6208 , 166579.1203 , 143338.9779 ,\n",
       "       169673.3637 ,  74324.19518, 184669.5944 , 136050.1639 ,\n",
       "       184516.6762 ,  95065.53537, 170547.3037 , 146196.5825 ,\n",
       "       109344.1613 , 150516.734  ,  55771.54948,  88082.55771,\n",
       "       109877.2392 , 185272.7241 ,  88592.56966,  86750.71746,\n",
       "        99201.1599 ,  97955.60308, 164695.4079 , 173531.3435 ,\n",
       "       110363.331  , 144184.7263 , 102771.2435 ,  87654.55773,\n",
       "       181102.0736 ,  64966.2875 , 180257.1795 , 140589.8682 ,\n",
       "        71772.42685,  77627.73991,  51286.51978,  80859.52417,\n",
       "        86101.45602, 132471.5373 ,  50428.81124,  99424.12995,\n",
       "        97446.44542, 138908.6228 , 148134.1153 , 159173.2684 ,\n",
       "        82229.80752, 100759.3874 , 113444.7599 ,  62531.55709,\n",
       "        87112.08271, 128995.4258 ,  53649.48971, 104159.467  ,\n",
       "        63978.72668, 167407.783  , 116603.0751 , 165584.7252 ,\n",
       "        88737.79919, 152894.2269 ,  64769.80049,  51324.1086 ,\n",
       "        57067.50948,  66357.07385,  71235.93187, 166415.9507 ,\n",
       "        57463.90068,  80804.84952,  70902.75824, 159247.5918 ,\n",
       "       112487.9536 , 116260.5043 , 121916.7675 , 161488.398  ,\n",
       "       161456.7893 , 176018.1857 , 118219.3944 , 134983.154  ,\n",
       "       180378.4888 , 139722.7625 ,  84378.35032, 178978.3053 ,\n",
       "        97882.98831,  54932.63535,  95148.40164, 106235.395  ,\n",
       "       103813.479  , 134723.4494 , 174364.2776 ,  82522.82946,\n",
       "        65743.69265,  96581.04826,  70153.5447 ,  93606.40571,\n",
       "       151891.2888 ,  79299.58812,  83553.10486,  60650.40749,\n",
       "       123228.959  ,  52481.67341, 161467.0408 , 107682.5646 ,\n",
       "       140522.3792 , 102118.5649 ,  57143.54142, 159227.0888 ,\n",
       "       163673.6754 , 157493.7316 ,  91623.59544, 157949.9232 ,\n",
       "        94974.98049, 148975.5923 , 158516.3184 , 110682.8359 ,\n",
       "       146690.3629 ,  58605.23395, 120412.3603 , 161783.1286 ,\n",
       "        76487.26093,  95178.30183, 104231.2275 ,  58963.18204,\n",
       "        76017.40068,  59803.80475, 129642.9786 ,  51003.74933,\n",
       "        77362.05529, 185502.5285 , 180753.5228 , 172495.0881 ,\n",
       "       140251.5689 ,  63093.68082, 171416.9724 , 111814.772  ,\n",
       "       123671.4819 ,  92903.32391, 105457.9899 ,  74425.00156,\n",
       "       173861.9543 ,  62223.15791,  60869.96038, 110395.794  ,\n",
       "       161076.6296 , 107704.7762 , 141344.2075 , 168760.9805 ,\n",
       "        97599.36358,  89558.7732 ,  99322.46927,  60065.21791,\n",
       "       102489.3274 ,  94400.89669, 154569.4922 ,  90808.60147,\n",
       "       138855.6568 , 103378.6447 , 134808.0242 ,  84305.73556,\n",
       "        83178.92524,  86221.9111 , 165330.1463 , 161035.6236 ,\n",
       "       138841.9881 ,  89012.02672, 132077.709  ,  95279.96251,\n",
       "       164336.6055 , 413956.48   , 333962.19   , 476485.43   ])"
      ]
     },
     "execution_count": 56,
     "metadata": {},
     "output_type": "execute_result"
    }
   ],
   "source": [
    "y"
   ]
  },
  {
   "cell_type": "code",
   "execution_count": 57,
   "metadata": {},
   "outputs": [
    {
     "data": {
      "text/plain": [
       "<matplotlib.axes._subplots.AxesSubplot at 0x24e71b26ef0>"
      ]
     },
     "execution_count": 57,
     "metadata": {},
     "output_type": "execute_result"
    },
    {
     "data": {
      "image/png": "[encoded data removed]",
      "text/plain": [
       "<matplotlib.figure.Figure at 0x24e71b340b8>"
      ]
     },
     "metadata": {},
     "output_type": "display_data"
    }
   ],
   "source": [
    "sns.heatmap(df.corr())"
   ]
  },
  {
   "cell_type": "code",
   "execution_count": 58,
   "metadata": {},
   "outputs": [],
   "source": [
    "#encoding categorical data\n",
    "from sklearn.preprocessing import LabelEncoder,OneHotEncoder\n",
    "labelencoder = LabelEncoder()\n",
    "X[:,3] = labelencoder.fit_transform(X[:,3])\n",
    "onehotencoder = OneHotEncoder(categorical_features= [3])\n",
    "X= onehotencoder.fit_transform(X).toarray()\n"
   ]
  },
  {
   "cell_type": "code",
   "execution_count": 59,
   "metadata": {},
   "outputs": [
    {
     "data": {
      "text/plain": [
       "array([0.000000e+00, 0.000000e+00, 1.000000e+00, 1.653492e+05,\n",
       "       1.368978e+05, 4.717841e+05])"
      ]
     },
     "execution_count": 59,
     "metadata": {},
     "output_type": "execute_result"
    }
   ],
   "source": [
    "X[0]"
   ]
  },
  {
   "cell_type": "code",
   "execution_count": 60,
   "metadata": {},
   "outputs": [],
   "source": [
    "#avoiding the dummy variable trap\n",
    "X = X[:,1:]"
   ]
  },
  {
   "cell_type": "code",
   "execution_count": 61,
   "metadata": {},
   "outputs": [
    {
     "data": {
      "text/plain": [
       "array([0.000000e+00, 1.000000e+00, 1.653492e+05, 1.368978e+05,\n",
       "       4.717841e+05])"
      ]
     },
     "execution_count": 61,
     "metadata": {},
     "output_type": "execute_result"
    }
   ],
   "source": [
    "X[0]"
   ]
  },
  {
   "cell_type": "code",
   "execution_count": 62,
   "metadata": {},
   "outputs": [],
   "source": [
    "#splitting the dataset into train and test\n",
    "from sklearn.model_selection import train_test_split\n",
    "X_train,X_test,y_train,y_test = train_test_split(X,y,test_size = 0.2,random_state = 0)"
   ]
  },
  {
   "cell_type": "code",
   "execution_count": 63,
   "metadata": {},
   "outputs": [
    {
     "data": {
      "text/plain": [
       "LinearRegression(copy_X=True, fit_intercept=True, n_jobs=1, normalize=False)"
      ]
     },
     "execution_count": 63,
     "metadata": {},
     "output_type": "execute_result"
    }
   ],
   "source": [
    "#fitting multiple regression to the training set\n",
    "from sklearn.linear_model import LinearRegression\n",
    "regressor = LinearRegression()\n",
    "regressor.fit(X_train,y_train)"
   ]
  },
  {
   "cell_type": "code",
   "execution_count": 64,
   "metadata": {},
   "outputs": [],
   "source": [
    "#predicting the test set results\n",
    "y_pred = regressor.predict(X_test)"
   ]
  },
  {
   "cell_type": "code",
   "execution_count": 65,
   "metadata": {},
   "outputs": [
    {
     "name": "stdout",
     "output_type": "stream",
     "text": [
      "[ 89790.61532915  88427.0718736   94894.67836971 175680.86725612\n",
      "  83411.73042088 110571.90200074 132145.22936441  91473.37719686\n",
      " 164597.05380607  53222.82667399  66950.19050988 150566.43987005\n",
      " 126915.20858596  59337.85971049 177513.91053063  75316.2814305\n",
      " 118248.14406603 164574.40699903 170937.2898107  182069.11645086\n",
      " 118845.03252688  85669.95112228 180992.59396145  84145.08220144\n",
      " 105005.83769214 101233.56772746  53831.07669089  56881.41475223\n",
      "  68896.39346904 210040.00765885 120778.72270894 111724.87157654\n",
      " 101487.90541517 137959.02649624  63969.95996742 108857.91214126\n",
      " 186014.72531989 171442.64130748 174644.26529206 117671.49128195\n",
      "  96731.37857433 165452.2577941  107724.34331255  50194.54176912\n",
      " 116513.89532179  58632.48986819 158416.46827611  78541.48521609\n",
      " 159727.66671744 131137.87699644 184880.70924518 174609.08266881\n",
      "  93745.66352058  78341.13383417 180745.90439081  84461.61490551\n",
      " 142900.90602903 170618.44098398  84365.09530838 105307.3716218\n",
      " 141660.07290787  52527.3434044  141842.96264161 139176.27973195\n",
      "  98294.52669666 113586.86790969 126754.21895489 152135.51985562\n",
      "  58864.51658954 174285.57361131 124624.04380784 169065.77658979\n",
      "  91279.33198209 156170.37268963  84307.26579365  77877.75223096\n",
      " 120414.02421346  93380.44273241 139020.62514121 143604.67103573\n",
      " 171148.30815369 140082.97050132 106369.71689747 155641.43851388\n",
      " 140030.10330037 110172.87893525  69672.98677563  88148.52068041\n",
      " 140133.59925093 148479.09537888 157916.63505258  58532.9486314\n",
      "  93707.38422389 112646.37475705  56556.18943659 107414.89996181\n",
      " 147352.80227753 152144.10104035 167808.11701785 118750.25230713\n",
      " 120763.27666701 139029.95295663 157527.9093412  121962.0621496\n",
      "  87091.32399736 104792.91384333  95335.22679185 178389.52287437\n",
      " 181942.63776383 109831.34945506 165254.03344097 167806.06491903\n",
      " 158002.44642544 174782.86900957 170196.771027    52302.1816161\n",
      " 176938.11595791 104751.83583865  82710.31528805 138890.52767844\n",
      " 144274.74675426 161679.01836441 169662.05445896 120450.9231013\n",
      " 158880.70799547 110213.73252824 169674.51532367  60760.6130084\n",
      " 159036.99629069 158169.44286049 174511.70494476 156294.79927785\n",
      " 103714.37583211  85635.96237573 141603.54878758 165917.69156981\n",
      " 121182.03641977 170751.87883894 100505.77549411  82097.51033127\n",
      " 178643.18879844 101790.48384578  70507.40958621  90250.04230088\n",
      "  61247.49962678  68912.17534519  72775.81613475 176914.08873126\n",
      "  89704.69244931 129209.43730015  92672.90938382  88133.59175043\n",
      " 172836.3302162   60893.62070013 169015.89446011 166450.24453205\n",
      " 165425.54476416 102170.5169499  181594.57928217  73702.5794256\n",
      "  91267.42979668 135791.54160195  64922.80257299  71775.70235725\n",
      "  60603.91401514 184288.61041917 176286.69585946 158907.7568704\n",
      " 141359.32216439 154611.17928322  58549.58863232  90618.58407898\n",
      " 152885.51163926 168398.05223806  72485.36274538 116064.24350667\n",
      "  80087.80697207 149828.90896189 116806.9595737  130191.48845161\n",
      " 174534.4267033  293584.45948283 146270.83174789 150646.69178015\n",
      "  86107.47782246  69967.20842245  70096.78368772  69033.69170768\n",
      " 120666.75708064  89677.68014063 166824.27091664 125514.76626409\n",
      "  67209.67687465 140930.69427704 118544.30490695 165897.61905907\n",
      " 168655.48652553 147009.66805049 141396.22104147 109086.50634849]\n"
     ]
    }
   ],
   "source": [
    "print(y_pred)"
   ]
  },
  {
   "cell_type": "code",
   "execution_count": 66,
   "metadata": {},
   "outputs": [
    {
     "name": "stdout",
     "output_type": "stream",
     "text": [
      "[-8.80536598e+02 -6.98169073e+02  5.25845857e-01  8.44390881e-01\n",
      "  1.07574255e-01]\n"
     ]
    }
   ],
   "source": [
    "#coefficients\n",
    "print(regressor.coef_)"
   ]
  },
  {
   "cell_type": "code",
   "execution_count": 67,
   "metadata": {},
   "outputs": [
    {
     "name": "stdout",
     "output_type": "stream",
     "text": [
      "-51035.22972404558\n"
     ]
    }
   ],
   "source": [
    "#intercepts\n",
    "print(regressor.intercept_)"
   ]
  },
  {
   "cell_type": "code",
   "execution_count": 68,
   "metadata": {},
   "outputs": [
    {
     "data": {
      "text/plain": [
       "0.911269589226882"
      ]
     },
     "execution_count": 68,
     "metadata": {},
     "output_type": "execute_result"
    }
   ],
   "source": [
    "#calculating the R squared value\n",
    "from sklearn.metrics import r2_score\n",
    "r2_score(y_test,y_pred)"
   ]
  },
  {
   "cell_type": "code",
   "execution_count": null,
   "metadata": {},
   "outputs": [],
   "source": []
  }
 ],
 "metadata": {
  "kernelspec": {
   "display_name": "Python 3",
   "language": "python",
   "name": "python3"
  },
  "language_info": {
   "codemirror_mode": {
    "name": "ipython",
    "version": 3
   },
   "file_extension": ".py",
   "mimetype": "text/x-python",
   "name": "python",
   "nbconvert_exporter": "python",
   "pygments_lexer": "ipython3",
   "version": "3.6.4"
  }
 },
 "nbformat": 4,
 "nbformat_minor": 2
}
